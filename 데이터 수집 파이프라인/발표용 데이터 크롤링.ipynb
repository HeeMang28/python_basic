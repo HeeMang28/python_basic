{
 "cells": [
  {
   "cell_type": "code",
   "execution_count": 3,
   "id": "4e28c9a3",
   "metadata": {},
   "outputs": [],
   "source": [
    "import pandas as pd\n",
    "import numpy as np\n",
    "import urllib.request \n",
    "import json \n",
    "from pandas.io.json import json_normalize\n",
    "import cx_Oracle\n",
    "import math\n",
    "from pandas._libs import index"
   ]
  },
  {
   "cell_type": "code",
   "execution_count": 5,
   "id": "5002379c",
   "metadata": {},
   "outputs": [],
   "source": [
    "set_url=\"http://api.odcloud.kr/api/15049997/v1/uddi:afa27fa9-0bf4-4a10-bd99-db1b5cc45caf?page=1&perPage=100&serviceKey=data-portal-test-key\"\n",
    "set_raw = urllib.request.urlopen(set_url)\n",
    "set_raw = set_raw.read()\n",
    "set_utf8 = set_raw.decode('utf-8', errors='ignore')\n",
    "set_complete = json.loads(set_utf8)\n",
    "total = math.ceil((set_complete['totalCount']/10))"
   ]
  },
  {
   "cell_type": "code",
   "execution_count": 6,
   "id": "1402ee2f",
   "metadata": {},
   "outputs": [],
   "source": [
    "merged_data = pd.DataFrame()"
   ]
  },
  {
   "cell_type": "code",
   "execution_count": 7,
   "id": "0b7362b6",
   "metadata": {},
   "outputs": [
    {
     "name": "stdout",
     "output_type": "stream",
     "text": [
      "INSERT INTO likestat (ID, LOCATION, LIKE_COUNT) VALUES (stat_seq.nextval, '제주 동쪽 구석구석 마을여행', '2261')\n",
      "INSERT INTO likestat (ID, LOCATION, LIKE_COUNT) VALUES (stat_seq.nextval, '제주 동부코스 1박 2일', '323')\n",
      "INSERT INTO likestat (ID, LOCATION, LIKE_COUNT) VALUES (stat_seq.nextval, '제주의 자연을 만나는 여행', '323')\n",
      "INSERT INTO likestat (ID, LOCATION, LIKE_COUNT) VALUES (stat_seq.nextval, '섬속의 섬 1박 2일 여행', '323')\n"
     ]
    }
   ],
   "source": [
    "for x in range(total):\n",
    "    url=\"http://api.odcloud.kr/api/15049997/v1/uddi:afa27fa9-0bf4-4a10-bd99-db1b5cc45caf?page=%s&perPage=100&serviceKey=data-portal-test-key\" % (x)\n",
    "    raw = urllib.request.urlopen(url)\n",
    "    json_raw = raw.read()\n",
    "    json_utf8 = json_raw.decode('utf-8')\n",
    "    json_complete = json.loads(json_utf8)\n",
    "    like_stat = pd.json_normalize(json_complete['data'])\n",
    "    merged_data = pd.concat([merged_data, like_stat])\n",
    "    \n",
    "merged_data.drop(\"등록일시\", axis=1, inplace=True)\n",
    "#print(merged_data.iloc[1]\n",
    "like_series = merged_data['여행일정'].value_counts()\n",
    "like_data = pd.DataFrame(list(zip(like_series.index.tolist(), like_series.values.tolist())), columns=['location', 'likeCount'])\n",
    "\n",
    "con_oracle = cx_Oracle.connect(\"mytest\", \"mytest\", \"localhost:1521/XEPDB1\")\n",
    "cursor = con_oracle.cursor()\n",
    "\n",
    "for i in range(len(like_data)):\n",
    "    selected_row = like_data.iloc[i]\n",
    "    print(\"INSERT INTO likestat (ID, LOCATION, LIKE_COUNT) VALUES (stat_seq.nextval, '%s', '%d')\" % (selected_row['location'], selected_row['likeCount']))\n",
    "    cursor.execute(\"INSERT INTO likestat (ID, LOCATION, LIKE_COUNT) VALUES (stat_seq.nextval, '%s', '%d')\" % (selected_row['location'], selected_row['likeCount']))\n",
    "con_oracle.commit()"
   ]
  },
  {
   "cell_type": "code",
   "execution_count": null,
   "id": "71df543e",
   "metadata": {},
   "outputs": [],
   "source": []
  },
  {
   "cell_type": "code",
   "execution_count": null,
   "id": "323a31c4",
   "metadata": {},
   "outputs": [],
   "source": []
  },
  {
   "cell_type": "code",
   "execution_count": null,
   "id": "492fa8cc",
   "metadata": {},
   "outputs": [],
   "source": []
  }
 ],
 "metadata": {
  "kernelspec": {
   "display_name": "Python 3 (ipykernel)",
   "language": "python",
   "name": "python3"
  },
  "language_info": {
   "codemirror_mode": {
    "name": "ipython",
    "version": 3
   },
   "file_extension": ".py",
   "mimetype": "text/x-python",
   "name": "python",
   "nbconvert_exporter": "python",
   "pygments_lexer": "ipython3",
   "version": "3.9.12"
  }
 },
 "nbformat": 4,
 "nbformat_minor": 5
}
