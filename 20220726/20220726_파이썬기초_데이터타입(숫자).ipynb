{
 "cells": [
  {
   "cell_type": "markdown",
   "id": "33f6a7a3",
   "metadata": {},
   "source": [
    "# 데이터 타입\n",
    "## > 숫자형\n",
    "- 종류\n",
    "    - 정수 : 0, 양수, 음수인 숫자\n",
    "    - 실수 : 소수점을 포함하는 숫자 \n",
    "    - 8진수 :0o 또는 0O(왼쪽 숫자0, 오른쪽 알파벳 o)로 시작 : 0o34, 0o25\n",
    "    - 16진수 (0x로 시작) : 0x2A, 0xFF"
   ]
  },
  {
   "cell_type": "markdown",
   "id": "fe401962",
   "metadata": {},
   "source": [
    "### 정수형"
   ]
  },
  {
   "cell_type": "code",
   "execution_count": 7,
   "id": "d587d6c4",
   "metadata": {},
   "outputs": [],
   "source": [
    "# 양수, 음수, 0\n",
    "a = 10\n",
    "b = -20\n",
    "c = 0"
   ]
  },
  {
   "cell_type": "code",
   "execution_count": 8,
   "id": "aa913dcb",
   "metadata": {},
   "outputs": [
    {
     "name": "stdout",
     "output_type": "stream",
     "text": [
      "<class 'int'> <class 'int'> <class 'int'>\n"
     ]
    }
   ],
   "source": [
    "# 정수 타입 : 타입(데이터종류)를 확인하는 내장함수 type()\n",
    "type(a)\n",
    "type(b)\n",
    "type(c)\n",
    "print(type(a), type(b), type(c))"
   ]
  },
  {
   "cell_type": "markdown",
   "id": "c982f440",
   "metadata": {},
   "source": [
    "# 실수형"
   ]
  },
  {
   "cell_type": "code",
   "execution_count": null,
   "id": "10b3d8a0",
   "metadata": {},
   "outputs": [],
   "source": [
    "# 양의 실수, 음의 실수, 0 : float\n",
    "a = 1.3\n",
    "b = -2.4\n",
    "c = 0.0"
   ]
  },
  {
   "cell_type": "code",
   "execution_count": null,
   "id": "68ba0bf5",
   "metadata": {},
   "outputs": [],
   "source": [
    "# 타입 확인은 직접 해보세요\n",
    "type(a)\n",
    "type(b)\n",
    "type(c)"
   ]
  },
  {
   "cell_type": "markdown",
   "id": "142293e7",
   "metadata": {},
   "source": [
    "## > 연산자\n",
    "- 산술 : +, -, *, /, //(몫), %(나머지), **(제곱)\n",
    "- 비교 : ==(값이 같은지), !=(값이 다른지), <=, >=, <, >\n",
    "- 논리 : and, or\n",
    "- 할당 : =, +=(누적함), -=(누적차), *=(누적곱), /=(몫만 남기기), %=(나머지만 남기기)"
   ]
  },
  {
   "cell_type": "markdown",
   "id": "06b2144f",
   "metadata": {},
   "source": [
    "### 1) 산술연산자:숫자를 계산하기 위한 문법 기호"
   ]
  },
  {
   "cell_type": "code",
   "execution_count": 11,
   "id": "75be9c71",
   "metadata": {},
   "outputs": [
    {
     "data": {
      "text/plain": [
       "13.4"
      ]
     },
     "execution_count": 11,
     "metadata": {},
     "output_type": "execute_result"
    }
   ],
   "source": [
    "# 더하기 : +\n",
    "10 + 3 # 정수 + 정수 => 정수로 출력\n",
    "13.3 + 2.4 # 실수 + 실수 => 실수로 출력\n",
    "10 + 3.4 # 정수 + 실수 => 실수로 출력"
   ]
  },
  {
   "cell_type": "code",
   "execution_count": 10,
   "id": "f2a6e39a",
   "metadata": {},
   "outputs": [
    {
     "data": {
      "text/plain": [
       "-4.7"
      ]
     },
     "execution_count": 10,
     "metadata": {},
     "output_type": "execute_result"
    }
   ],
   "source": [
    "# 빼기 : -\n",
    "10 -3\n",
    "3 - 7.7"
   ]
  },
  {
   "cell_type": "code",
   "execution_count": 15,
   "id": "49d42ef5",
   "metadata": {},
   "outputs": [
    {
     "data": {
      "text/plain": [
       "2.0"
      ]
     },
     "execution_count": 15,
     "metadata": {},
     "output_type": "execute_result"
    }
   ],
   "source": [
    "# 나누기 : /\n",
    "# 나누기 결과는 정수 / 정수 여도 실수로 출력됨\n",
    "3 / 3\n",
    "7 / 2\n",
    "5 / 2.5"
   ]
  },
  {
   "cell_type": "code",
   "execution_count": 16,
   "id": "fa7d00a3",
   "metadata": {},
   "outputs": [
    {
     "data": {
      "text/plain": [
       "-17"
      ]
     },
     "execution_count": 16,
     "metadata": {},
     "output_type": "execute_result"
    }
   ],
   "source": [
    "# 곱하기 : *\n",
    "3 * 4\n",
    "-3 * 5\n",
    "(3-4) * 5\n",
    "3 - 4 * 5"
   ]
  },
  {
   "cell_type": "code",
   "execution_count": 17,
   "id": "a1fa0aa4",
   "metadata": {},
   "outputs": [
    {
     "data": {
      "text/plain": [
       "1"
      ]
     },
     "execution_count": 17,
     "metadata": {},
     "output_type": "execute_result"
    }
   ],
   "source": [
    "# 정수 몫만 반환 : //\n",
    "# 나눗셈의 결과값보다 작은 정수중에 가장 큰 정수\n",
    "# 음수\n",
    "5 // 4"
   ]
  },
  {
   "cell_type": "code",
   "execution_count": 18,
   "id": "b3d92247",
   "metadata": {},
   "outputs": [
    {
     "data": {
      "text/plain": [
       "1"
      ]
     },
     "execution_count": 18,
     "metadata": {},
     "output_type": "execute_result"
    }
   ],
   "source": [
    "# 양수\n",
    "4 // 3"
   ]
  },
  {
   "cell_type": "code",
   "execution_count": 19,
   "id": "2c79a507",
   "metadata": {},
   "outputs": [
    {
     "data": {
      "text/plain": [
       "3"
      ]
     },
     "execution_count": 19,
     "metadata": {},
     "output_type": "execute_result"
    }
   ],
   "source": [
    "# 정수 몫을 구하고 남은 나머지만 반환 : %\n",
    "3 % 4"
   ]
  },
  {
   "cell_type": "code",
   "execution_count": 20,
   "id": "623ed990",
   "metadata": {},
   "outputs": [
    {
     "data": {
      "text/plain": [
       "8"
      ]
     },
     "execution_count": 20,
     "metadata": {},
     "output_type": "execute_result"
    }
   ],
   "source": [
    "# 지수 : **\n",
    "2 ** 3 #(2의 3제곱)\n",
    "# 2의 제곱근을 구해보세요"
   ]
  },
  {
   "cell_type": "code",
   "execution_count": 22,
   "id": "4abed93f",
   "metadata": {},
   "outputs": [
    {
     "data": {
      "text/plain": [
       "1.4142135623730951"
      ]
     },
     "execution_count": 22,
     "metadata": {},
     "output_type": "execute_result"
    }
   ],
   "source": [
    "2 ** (1/2)"
   ]
  },
  {
   "cell_type": "markdown",
   "id": "47b832db",
   "metadata": {},
   "source": [
    "### 2) 비교연산자 : 자료를 비교하기 위한 문법 기호\n",
    "    - 결과가 숫자가 아닌 bool type의 결과를 가진다\n",
    "    \n",
    "> ##### bool type\n",
    "    - True : 0이 아닌 숫자, 참인 조건식 등\n",
    "    - False : 0, 거짓인 조건식 등\n",
    "- 값에 대한 비교 : ==, !=\n",
    "- 크기에 대한 비교 : >, <, >=< <="
   ]
  },
  {
   "cell_type": "code",
   "execution_count": 23,
   "id": "90eaa604",
   "metadata": {},
   "outputs": [
    {
     "data": {
      "text/plain": [
       "True"
      ]
     },
     "execution_count": 23,
     "metadata": {},
     "output_type": "execute_result"
    }
   ],
   "source": [
    "# 두 값이 같은지 비교 : ==\n",
    "# (결과) 두 값이 같으면 True, 두 값이 다르면 False\n",
    "0 == 0.0"
   ]
  },
  {
   "cell_type": "code",
   "execution_count": 24,
   "id": "4072c9e4",
   "metadata": {},
   "outputs": [
    {
     "data": {
      "text/plain": [
       "True"
      ]
     },
     "execution_count": 24,
     "metadata": {},
     "output_type": "execute_result"
    }
   ],
   "source": [
    "# 두 값의 크기를 비교 : >=, <=, <, >\n",
    "10 >= 3"
   ]
  },
  {
   "cell_type": "markdown",
   "id": "ee5685d9",
   "metadata": {},
   "source": [
    "### 3) 논리연산자\n",
    "    - 여러 개의 조건식을 활용하기 위한 명령어\n",
    "    - bool type 결과 반환 : True, False"
   ]
  },
  {
   "cell_type": "code",
   "execution_count": null,
   "id": "7a8d33e0",
   "metadata": {},
   "outputs": [],
   "source": [
    "# and 연산자 : 조건식1 and 조건식2\n",
    "# 조건식1과 조건식2가 모두 True라면 최종 결과도 True\n",
    "# 둘 중 하나만 False여도 최종 결과는 False\n",
    "# 둘 다 False라면 최종 결과는 False\n",
    "10 < 12 # True\n",
    "0 > -3 # True\n",
    "10 < 12 and 0 > -3"
   ]
  },
  {
   "cell_type": "code",
   "execution_count": 25,
   "id": "e4457abd",
   "metadata": {},
   "outputs": [
    {
     "data": {
      "text/plain": [
       "True"
      ]
     },
     "execution_count": 25,
     "metadata": {},
     "output_type": "execute_result"
    }
   ],
   "source": [
    "# 숫자 0은 False, 이외에 모든 숫자는 True\n",
    "# bool(자료)는 자료의 참 거짓을 판단해줍니다,\n",
    "bool(-5)"
   ]
  },
  {
   "cell_type": "code",
   "execution_count": null,
   "id": "a27e1634",
   "metadata": {},
   "outputs": [],
   "source": [
    "# 0 이 False로 사용되는 예시\n",
    "bool(0 and 10 > 3)# 0 -> False, 10>3 -> True => and연산자의 결과 : False"
   ]
  },
  {
   "cell_type": "code",
   "execution_count": 26,
   "id": "8a6139ff",
   "metadata": {},
   "outputs": [
    {
     "data": {
      "text/plain": [
       "True"
      ]
     },
     "execution_count": 26,
     "metadata": {},
     "output_type": "execute_result"
    }
   ],
   "source": [
    "# or 연산자\n",
    "# 조건식1 or 조건식2\n",
    "# 둘 중 하나만 True여도 최종결과 True\n",
    "# 둘 다 Flase일 때 최종결과 False\n",
    "bool(0 or 10 > 3)"
   ]
  },
  {
   "cell_type": "markdown",
   "id": "0d42bf7c",
   "metadata": {},
   "source": [
    "##### 4) 할당연산자\n",
    "\n",
    "- 변수 할당\n",
    "- 누적 연산"
   ]
  },
  {
   "cell_type": "code",
   "execution_count": 28,
   "id": "a8253688",
   "metadata": {},
   "outputs": [],
   "source": [
    "# 변수명(왼쪽)에 변수값(오른쪽)을 할당/선언/저장/대입 : =\n",
    "x = 10"
   ]
  },
  {
   "cell_type": "code",
   "execution_count": 29,
   "id": "f2a573e6",
   "metadata": {},
   "outputs": [
    {
     "data": {
      "text/plain": [
       "10"
      ]
     },
     "execution_count": 29,
     "metadata": {},
     "output_type": "execute_result"
    }
   ],
   "source": [
    "# 숫자형의 누적합 +=\n",
    "# rusult라는 변수에 누적함을 저장하기\n",
    "result = 0\n",
    "# result에 x만큼 더해서 저장하기 위해 원래 사용하던 코드\n",
    "result += x # result = result + x\n",
    "result"
   ]
  },
  {
   "cell_type": "code",
   "execution_count": 39,
   "id": "913a801c",
   "metadata": {},
   "outputs": [
    {
     "name": "stdout",
     "output_type": "stream",
     "text": [
      "55\n"
     ]
    }
   ],
   "source": [
    "# 1 ~ 10 까지 누적합을 구해보세요\n",
    "result = 0\n",
    "for i in range(1, 11): \n",
    "     # i변수가 1~10까지 반복됨\n",
    "     # 여기에 누적함 구문을 작성해주세요.\n",
    "    result += i\n",
    "print(result)"
   ]
  },
  {
   "cell_type": "code",
   "execution_count": 40,
   "id": "0481391c",
   "metadata": {},
   "outputs": [],
   "source": [
    "# 숫자형의 누적 차\n",
    "result -= 1"
   ]
  },
  {
   "cell_type": "code",
   "execution_count": 41,
   "id": "0a073443",
   "metadata": {},
   "outputs": [
    {
     "data": {
      "text/plain": [
       "54"
      ]
     },
     "execution_count": 41,
     "metadata": {},
     "output_type": "execute_result"
    }
   ],
   "source": [
    "result"
   ]
  },
  {
   "cell_type": "code",
   "execution_count": 42,
   "id": "a49fd3af",
   "metadata": {},
   "outputs": [
    {
     "data": {
      "text/plain": [
       "108"
      ]
     },
     "execution_count": 42,
     "metadata": {},
     "output_type": "execute_result"
    }
   ],
   "source": [
    "# 누적곱\n",
    "result *= 2\n",
    "result"
   ]
  },
  {
   "cell_type": "markdown",
   "id": "71fc5cde",
   "metadata": {},
   "source": [
    "### 1. 홍길동의 시험 성적 평균을 구하세요\n",
    "    | 영어 80점    | 국어 72점    | 수학 90점    | 사회 66점    |\n",
    "    \n",
    "* 변수를 사용해서 과목의 평균을 구해보세요.\n",
    "* 출력 양식 : <br>\n",
    "총합 308 <br>\n",
    "평균 77"
   ]
  },
  {
   "cell_type": "code",
   "execution_count": 45,
   "id": "1ee9ef30",
   "metadata": {},
   "outputs": [],
   "source": [
    "eng = 80\n",
    "kor = 72\n",
    "math = 90\n",
    "social = 66"
   ]
  },
  {
   "cell_type": "code",
   "execution_count": null,
   "id": "680f48f8",
   "metadata": {},
   "outputs": [],
   "source": [
    "# 총합 구하기"
   ]
  },
  {
   "cell_type": "code",
   "execution_count": null,
   "id": "ccfd8d56",
   "metadata": {},
   "outputs": [],
   "source": [
    "# 평균 구하기"
   ]
  },
  {
   "cell_type": "code",
   "execution_count": 54,
   "id": "2cec0aef",
   "metadata": {},
   "outputs": [
    {
     "name": "stdout",
     "output_type": "stream",
     "text": [
      "총합 :  308\n",
      "평균 :  77.0\n"
     ]
    }
   ],
   "source": [
    "#print문을 이용해 총합과 평균 출력하기\n",
    "total = eng + kor + math + social\n",
    "average = total / 4\n",
    "\n",
    "print('총합 : ', total)\n",
    "print('평균 : ', average)\n"
   ]
  },
  {
   "cell_type": "markdown",
   "id": "9d999566",
   "metadata": {},
   "source": [
    "### 2. 반지름이 7인 원의 넓이를 구해주세요\n",
    "\n",
    "(참고) 원 넓이 = (반지름 ** 2) * 3.14\n",
    "\n",
    "- 반지름과 원 넓이는 모두 변수로 저장해줍니다.\n",
    "- 출력 양식<br>\n",
    "반지름 : 3\n",
    "원 넓이 : 27(소수점 없이 정수로 출력)"
   ]
  },
  {
   "cell_type": "code",
   "execution_count": 56,
   "id": "44847881",
   "metadata": {},
   "outputs": [],
   "source": [
    "# 반지름\n",
    "r = 7"
   ]
  },
  {
   "cell_type": "code",
   "execution_count": 58,
   "id": "c6ab5c0d",
   "metadata": {},
   "outputs": [],
   "source": [
    "# 파이(원주율)\n",
    "pi = 3.14"
   ]
  },
  {
   "cell_type": "code",
   "execution_count": 59,
   "id": "42d8ba93",
   "metadata": {},
   "outputs": [
    {
     "name": "stdout",
     "output_type": "stream",
     "text": [
      "153.86\n"
     ]
    }
   ],
   "source": [
    "circle = (r ** 2) * pi\n",
    "\n",
    "print(circle)"
   ]
  },
  {
   "cell_type": "markdown",
   "id": "efdd0db3",
   "metadata": {},
   "source": [
    "### 3. 여러분들이 직접 임의의 변수에 원하는 숫자를 집어넣고 그 숫자의 제곱근과 세제곱근 값을 출력해주세요."
   ]
  },
  {
   "cell_type": "code",
   "execution_count": 60,
   "id": "ad42fa0e",
   "metadata": {},
   "outputs": [],
   "source": [
    "# 변수 저장\n",
    "num = 33"
   ]
  },
  {
   "cell_type": "code",
   "execution_count": 61,
   "id": "7422bd3e",
   "metadata": {},
   "outputs": [
    {
     "name": "stdout",
     "output_type": "stream",
     "text": [
      "제곱근 5.744562646538029\n"
     ]
    }
   ],
   "source": [
    "# 출력\n",
    "print(\"제곱근\", num ** (1/2))"
   ]
  },
  {
   "cell_type": "code",
   "execution_count": 62,
   "id": "74667f63",
   "metadata": {},
   "outputs": [
    {
     "name": "stdout",
     "output_type": "stream",
     "text": [
      "세제곱근 3.207534329995826\n"
     ]
    }
   ],
   "source": [
    "# 세제곱근\n",
    "print(\"세제곱근\", num ** (1/3))"
   ]
  },
  {
   "cell_type": "code",
   "execution_count": 63,
   "id": "2a98f6af",
   "metadata": {},
   "outputs": [
    {
     "name": "stdout",
     "output_type": "stream",
     "text": [
      "세제곱 35937\n"
     ]
    }
   ],
   "source": [
    "print(\"세제곱\", num ** 3)"
   ]
  },
  {
   "cell_type": "code",
   "execution_count": null,
   "id": "61115c2b",
   "metadata": {},
   "outputs": [],
   "source": []
  }
 ],
 "metadata": {
  "kernelspec": {
   "display_name": "Python 3 (ipykernel)",
   "language": "python",
   "name": "python3"
  },
  "language_info": {
   "codemirror_mode": {
    "name": "ipython",
    "version": 3
   },
   "file_extension": ".py",
   "mimetype": "text/x-python",
   "name": "python",
   "nbconvert_exporter": "python",
   "pygments_lexer": "ipython3",
   "version": "3.9.12"
  }
 },
 "nbformat": 4,
 "nbformat_minor": 5
}
