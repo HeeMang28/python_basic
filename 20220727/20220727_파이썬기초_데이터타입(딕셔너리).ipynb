{
 "cells": [
  {
   "cell_type": "code",
   "execution_count": null,
   "id": "b51bea8d",
   "metadata": {},
   "outputs": [],
   "source": [
    "# 3. 딕셔너리(Dictionary)\n",
    "\n",
    "> 문법 기호/함수 : {key1 : value1, key2 : value2, key3 : value3 ... } / 함수 :dict()\n",
    "        \n",
    "> key로 가질 수 있는 데이터 타입 : 문자, 숫자, 튜플(Tuple)\n",
    "    \n",
    "> value로 가질 수 있는 데이터 타입 : 문자, 숫자, 리스트(List), 딕셔너리(Dict) ...\n",
    "\n",
    "> 아이템 = key&value 하나의 쌍\n",
    "\n",
    "> 종류\n",
    "\n",
    "    * 아이템이 없는 딕셔너리\n",
    "    \n",
    "    * 1차원 딕셔너리\n",
    "    \n",
    "    * 다차원 딕셔너리\n",
    "    \n",
    "> 특징\n",
    "\n",
    "    * key, value의 차이점\n",
    "    \n",
    "    * 인덱스 번호를 가지지 않는다."
   ]
  },
  {
   "cell_type": "markdown",
   "id": "f3b28b9f",
   "metadata": {},
   "source": [
    "### 1. 생성하기"
   ]
  },
  {
   "cell_type": "code",
   "execution_count": 1,
   "id": "5aabb802",
   "metadata": {},
   "outputs": [
    {
     "data": {
      "text/plain": [
       "dict"
      ]
     },
     "execution_count": 1,
     "metadata": {},
     "output_type": "execute_result"
    }
   ],
   "source": [
    "# 딕셔너리 생성하기\n",
    "# 문법기호 : {k1:v1, k2:v2, k3:v3...}\n",
    "d1 = {1:10, 2:20, 3:30}\n",
    "type(d1)"
   ]
  },
  {
   "cell_type": "code",
   "execution_count": 2,
   "id": "aeb1d932",
   "metadata": {},
   "outputs": [
    {
     "data": {
      "text/plain": [
       "{}"
      ]
     },
     "execution_count": 2,
     "metadata": {},
     "output_type": "execute_result"
    }
   ],
   "source": [
    "# 함수 dict()를 이용해서 딕셔너리를 만들수도 있습니다.\n",
    "d2 = {}\n",
    "d2"
   ]
  },
  {
   "cell_type": "code",
   "execution_count": 3,
   "id": "f78fd338",
   "metadata": {},
   "outputs": [
    {
     "data": {
      "text/plain": [
       "list"
      ]
     },
     "execution_count": 3,
     "metadata": {},
     "output_type": "execute_result"
    }
   ],
   "source": [
    "# 2차원 자료를 이용해 딕셔너리로 변환 가능\n",
    "x = [['a', 'b'], ['a1', 'b1'], ['a2', 'b2']]\n",
    "type(x)"
   ]
  },
  {
   "cell_type": "code",
   "execution_count": 4,
   "id": "8da29346",
   "metadata": {},
   "outputs": [
    {
     "data": {
      "text/plain": [
       "{'a': 'b', 'a1': 'b1', 'a2': 'b2'}"
      ]
     },
     "execution_count": 4,
     "metadata": {},
     "output_type": "execute_result"
    }
   ],
   "source": [
    "# 2차원 배열 x를 딕셔너리로 변환\n",
    "dict(x)"
   ]
  },
  {
   "cell_type": "code",
   "execution_count": 5,
   "id": "453261ee",
   "metadata": {},
   "outputs": [
    {
     "data": {
      "text/plain": [
       "{1: [1, 2, 3], 2: {'a:': 'b\"'}}"
      ]
     },
     "execution_count": 5,
     "metadata": {},
     "output_type": "execute_result"
    }
   ],
   "source": [
    "# 딕셔너리의 value값에 들어갈 수 있는 자료에는 제약이 없다\n",
    "{1: [1, 2, 3], 2:{'a:':'b\"'}}"
   ]
  },
  {
   "cell_type": "code",
   "execution_count": 7,
   "id": "2a7b793a",
   "metadata": {},
   "outputs": [
    {
     "data": {
      "text/plain": [
       "{'name': '임꺽정', 'name2': '이순신'}"
      ]
     },
     "execution_count": 7,
     "metadata": {},
     "output_type": "execute_result"
    }
   ],
   "source": [
    "# key와 value의 차이\n",
    "# key값에는 중복된 자료가 들어갈 수 없으며\n",
    "# 만약 선언단계에서 중복된 key값으로 아이템을 선언시 가장 마지막 하나만 남습니다.\n",
    "{'name' : '홍길동', 'name' : '임꺽정', 'name2' : '이순신'}"
   ]
  },
  {
   "cell_type": "markdown",
   "id": "1e0d55d6",
   "metadata": {},
   "source": [
    "## 2. 인덱싱\n",
    "\n",
    "    - 일차원 vs 다차원 인덱싱\n",
    "    \n",
    "    - 딕셔너리 내장함수로 인덱싱"
   ]
  },
  {
   "cell_type": "code",
   "execution_count": 8,
   "id": "d398a506",
   "metadata": {},
   "outputs": [
    {
     "data": {
      "text/plain": [
       "1"
      ]
     },
     "execution_count": 8,
     "metadata": {},
     "output_type": "execute_result"
    }
   ],
   "source": [
    "# 기존의 인덱싱 방법 : 객체[인덱싱번호]\n",
    "a = [1, 2, 3]\n",
    "a[0]"
   ]
  },
  {
   "cell_type": "code",
   "execution_count": 9,
   "id": "a47fb695",
   "metadata": {},
   "outputs": [],
   "source": [
    "# 문자, 리스트타입 인덱싱과의 차이점 : 기준값이 인덱스번호가 아닌 key값을 사용\n",
    "d1 = {'a':10, 'b':20, 'c':30}"
   ]
  },
  {
   "cell_type": "code",
   "execution_count": 10,
   "id": "1253e9f6",
   "metadata": {},
   "outputs": [
    {
     "ename": "KeyError",
     "evalue": "'d'",
     "output_type": "error",
     "traceback": [
      "\u001b[1;31m---------------------------------------------------------------------------\u001b[0m",
      "\u001b[1;31mKeyError\u001b[0m                                  Traceback (most recent call last)",
      "Input \u001b[1;32mIn [10]\u001b[0m, in \u001b[0;36m<cell line: 2>\u001b[1;34m()\u001b[0m\n\u001b[0;32m      1\u001b[0m \u001b[38;5;66;03m# 인덱싱 방식 : 없는값을 조회하면 에러\u001b[39;00m\n\u001b[1;32m----> 2\u001b[0m \u001b[43md1\u001b[49m\u001b[43m[\u001b[49m\u001b[38;5;124;43m'\u001b[39;49m\u001b[38;5;124;43md\u001b[39;49m\u001b[38;5;124;43m'\u001b[39;49m\u001b[43m]\u001b[49m\n",
      "\u001b[1;31mKeyError\u001b[0m: 'd'"
     ]
    }
   ],
   "source": [
    "# 인덱싱 방식 : 없는값을 조회하면 에러\n",
    "d1['d']"
   ]
  },
  {
   "cell_type": "code",
   "execution_count": 11,
   "id": "3b5c7620",
   "metadata": {},
   "outputs": [],
   "source": [
    "# 내장함수 . get()을 사용하면 없는 키값으로 조회해도 에러가 나지는 않습니다.\n",
    "d1.get('d')"
   ]
  },
  {
   "cell_type": "code",
   "execution_count": 12,
   "id": "9348898f",
   "metadata": {},
   "outputs": [
    {
     "ename": "TypeError",
     "evalue": "unhashable type: 'slice'",
     "output_type": "error",
     "traceback": [
      "\u001b[1;31m---------------------------------------------------------------------------\u001b[0m",
      "\u001b[1;31mTypeError\u001b[0m                                 Traceback (most recent call last)",
      "Input \u001b[1;32mIn [12]\u001b[0m, in \u001b[0;36m<cell line: 3>\u001b[1;34m()\u001b[0m\n\u001b[0;32m      1\u001b[0m \u001b[38;5;66;03m# 딕셔너리는 슬라이싱이 불가능하다\u001b[39;00m\n\u001b[0;32m      2\u001b[0m \u001b[38;5;66;03m# 슬라이싱대신 반복문을 사용하는 수밖에 없다\u001b[39;00m\n\u001b[1;32m----> 3\u001b[0m \u001b[43md1\u001b[49m\u001b[43m[\u001b[49m\u001b[38;5;124;43m'\u001b[39;49m\u001b[38;5;124;43ma\u001b[39;49m\u001b[38;5;124;43m'\u001b[39;49m\u001b[43m:\u001b[49m\u001b[38;5;124;43m'\u001b[39;49m\u001b[38;5;124;43mc\u001b[39;49m\u001b[38;5;124;43m'\u001b[39;49m\u001b[43m]\u001b[49m\n",
      "\u001b[1;31mTypeError\u001b[0m: unhashable type: 'slice'"
     ]
    }
   ],
   "source": [
    "# 딕셔너리는 슬라이싱이 불가능하다\n",
    "# 슬라이싱대신 반복문을 사용하는 수밖에 없다\n",
    "d1['a':'c']"
   ]
  },
  {
   "cell_type": "code",
   "execution_count": null,
   "id": "63bf2c00",
   "metadata": {},
   "outputs": [],
   "source": [
    "### <<연습문제>>\n",
    "\n",
    "아래와 같은 다차원 딕셔너리를 만들고 제시한 값을 출력해보세요.\n",
    "\n",
    "    {'a' : [1, 2, 3], 'b' : 100, 'c' : {'key1' : ['파인애플', '포도', '바나나'], 'key2' : (55, 66)}}\n",
    "    \n",
    "* 1) 3 출력하기\n",
    "\n",
    "* 2) ['파인애플', '포도', '바나나'] 출력하기\n",
    "\n",
    "* 3) 포도 출력하기\n",
    "\n",
    "* 4) 55 출력하기"
   ]
  },
  {
   "cell_type": "code",
   "execution_count": 32,
   "id": "a66d1310",
   "metadata": {},
   "outputs": [
    {
     "data": {
      "text/plain": [
       "{'a': [1, 2, 3],\n",
       " 'b': 100,\n",
       " 'c': {'key1': ['파인애플', '포도', '바나나'], 'key2': (55, 66)}}"
      ]
     },
     "execution_count": 32,
     "metadata": {},
     "output_type": "execute_result"
    }
   ],
   "source": [
    "list = {'a' : [1, 2, 3], 'b' : 100, 'c' : {'key1' : ['파인애플', '포도', '바나나'], 'key2' : (55, 66)}}\n",
    "list"
   ]
  },
  {
   "cell_type": "code",
   "execution_count": 15,
   "id": "34ca3351",
   "metadata": {},
   "outputs": [
    {
     "data": {
      "text/plain": [
       "{'a': [1, 2, 3],\n",
       " 'b': 100,\n",
       " 'c': {'key1': ['파인애플', '포도', '바나나'], 'key2': (55, 66)}}"
      ]
     },
     "execution_count": 15,
     "metadata": {},
     "output_type": "execute_result"
    }
   ],
   "source": [
    "dict(list)"
   ]
  },
  {
   "cell_type": "code",
   "execution_count": 46,
   "id": "559b7079",
   "metadata": {},
   "outputs": [
    {
     "data": {
      "text/plain": [
       "3"
      ]
     },
     "execution_count": 46,
     "metadata": {},
     "output_type": "execute_result"
    }
   ],
   "source": [
    "list['a'][2]"
   ]
  },
  {
   "cell_type": "code",
   "execution_count": 47,
   "id": "da9019a4",
   "metadata": {},
   "outputs": [
    {
     "data": {
      "text/plain": [
       "['파인애플', '포도', '바나나']"
      ]
     },
     "execution_count": 47,
     "metadata": {},
     "output_type": "execute_result"
    }
   ],
   "source": [
    "list['c']['key1']"
   ]
  },
  {
   "cell_type": "code",
   "execution_count": 49,
   "id": "bf0d9f59",
   "metadata": {},
   "outputs": [
    {
     "data": {
      "text/plain": [
       "'포도'"
      ]
     },
     "execution_count": 49,
     "metadata": {},
     "output_type": "execute_result"
    }
   ],
   "source": [
    "list['c']['key1'][1]"
   ]
  },
  {
   "cell_type": "code",
   "execution_count": 52,
   "id": "2ef0328a",
   "metadata": {},
   "outputs": [
    {
     "data": {
      "text/plain": [
       "55"
      ]
     },
     "execution_count": 52,
     "metadata": {},
     "output_type": "execute_result"
    }
   ],
   "source": [
    "list['c']['key2'][0]"
   ]
  },
  {
   "cell_type": "markdown",
   "id": "ed185773",
   "metadata": {},
   "source": [
    "### 3. 아이템 추가하기\n",
    "\n",
    "- 인덱싱 방식으로 새로운 아이템 추가\n",
    "\n",
    "- 메소드 : update()"
   ]
  },
  {
   "cell_type": "code",
   "execution_count": 53,
   "id": "69ebbeb3",
   "metadata": {},
   "outputs": [],
   "source": [
    "d1 = {'a':1, 'b':2, 'c':3}"
   ]
  },
  {
   "cell_type": "code",
   "execution_count": 54,
   "id": "2bf5c122",
   "metadata": {},
   "outputs": [
    {
     "data": {
      "text/plain": [
       "{'a': 1, 'b': 2, 'c': 3, 'd': 4}"
      ]
     },
     "execution_count": 54,
     "metadata": {},
     "output_type": "execute_result"
    }
   ],
   "source": [
    "# 새로운 key값(인덱싱)에 value 값을 할당하며 아이템 추가\n",
    "d1['d'] = 4\n",
    "d1"
   ]
  },
  {
   "cell_type": "code",
   "execution_count": 55,
   "id": "64f33493",
   "metadata": {},
   "outputs": [
    {
     "data": {
      "text/plain": [
       "{'a': 10, 'b': 2, 'c': 3, 'd': 4}"
      ]
     },
     "execution_count": 55,
     "metadata": {},
     "output_type": "execute_result"
    }
   ],
   "source": [
    "# 기존에 존재하는 key값에 대해서 value를 할당하면 값이 갱신됨\n",
    "d1['a'] = 10\n",
    "d1"
   ]
  },
  {
   "cell_type": "code",
   "execution_count": 56,
   "id": "f50e2fdf",
   "metadata": {},
   "outputs": [
    {
     "data": {
      "text/plain": [
       "{'a': 10, 'b': 2, 'c': 3, 'd': 4, 'e': 10, 'z': 40, 'v': 100}"
      ]
     },
     "execution_count": 56,
     "metadata": {},
     "output_type": "execute_result"
    }
   ],
   "source": [
    "# 하나 이상의 아이템(key & value) 추가/수정 : 딕셔너리자료.update()\n",
    "# 추가할 아이템 타입 : 딕셔너리, 리스트(2차원으로 내부 요소가 2개씩 쌍으로 있는 경우)\n",
    "# 'e':10, 'z':40, 'v':100\n",
    "d1.update({'e':10, 'z':40, 'v':100})\n",
    "d1"
   ]
  },
  {
   "cell_type": "code",
   "execution_count": 57,
   "id": "d5b91bca",
   "metadata": {},
   "outputs": [],
   "source": [
    "# 리스트로 처리하기\n",
    "d2 = {'a':10, 'b':2, 'c':3, 'd':4}"
   ]
  },
  {
   "cell_type": "code",
   "execution_count": 59,
   "id": "16eeb20f",
   "metadata": {},
   "outputs": [
    {
     "data": {
      "text/plain": [
       "{'a': 10, 'b': 10, 'c': 3, 'd': 4, 'e': 50, 'f': 100}"
      ]
     },
     "execution_count": 59,
     "metadata": {},
     "output_type": "execute_result"
    }
   ],
   "source": [
    "data = [('b', 10), ('e', 50), ('f', 100)]\n",
    "d2.update(data)\n",
    "d2"
   ]
  },
  {
   "cell_type": "markdown",
   "id": "256290aa",
   "metadata": {},
   "source": [
    "### 4. 삭제하기\n",
    "\n",
    "- 하나의 아이템 삭제하기\n",
    "\n",
    "- 모든 아이템 삭제하기 : 객체는 삭제되지 않는다."
   ]
  },
  {
   "cell_type": "code",
   "execution_count": 60,
   "id": "08436a04",
   "metadata": {},
   "outputs": [
    {
     "data": {
      "text/plain": [
       "{'a': 10, 'b': 10, 'c': 3, 'e': 50, 'f': 100}"
      ]
     },
     "execution_count": 60,
     "metadata": {},
     "output_type": "execute_result"
    }
   ],
   "source": [
    "# 하나의 아이템 삭제하기 : del + 인덱싱 (단, .get(0에 대해서는 del키워드를 쓸 수 없음)\n",
    "del d2['d']\n",
    "d2"
   ]
  },
  {
   "cell_type": "code",
   "execution_count": 61,
   "id": "1a2ebf7c",
   "metadata": {},
   "outputs": [],
   "source": [
    "# 딕셔너리 비우기 : 딕셔너리.clear()\n",
    "# del은 변수 자체가 삭제되지만, .claer()는 변수는 남아있되 내부만 비워준다.\n",
    "d2.clear()"
   ]
  },
  {
   "cell_type": "code",
   "execution_count": 62,
   "id": "9c91ce04",
   "metadata": {},
   "outputs": [
    {
     "data": {
      "text/plain": [
       "{}"
      ]
     },
     "execution_count": 62,
     "metadata": {},
     "output_type": "execute_result"
    }
   ],
   "source": [
    "d2"
   ]
  },
  {
   "cell_type": "code",
   "execution_count": 63,
   "id": "f4975986",
   "metadata": {},
   "outputs": [
    {
     "ename": "NameError",
     "evalue": "name 'd1' is not defined",
     "output_type": "error",
     "traceback": [
      "\u001b[1;31m---------------------------------------------------------------------------\u001b[0m",
      "\u001b[1;31mNameError\u001b[0m                                 Traceback (most recent call last)",
      "Input \u001b[1;32mIn [63]\u001b[0m, in \u001b[0;36m<cell line: 3>\u001b[1;34m()\u001b[0m\n\u001b[0;32m      1\u001b[0m \u001b[38;5;66;03m# 주의 : del키워드로 전체 삭제시, 빈 딕셔너리조차 안남음\u001b[39;00m\n\u001b[0;32m      2\u001b[0m \u001b[38;5;28;01mdel\u001b[39;00m d1\n\u001b[1;32m----> 3\u001b[0m \u001b[43md1\u001b[49m\n",
      "\u001b[1;31mNameError\u001b[0m: name 'd1' is not defined"
     ]
    }
   ],
   "source": [
    "# 주의 : del키워드로 전체 삭제시, 빈 딕셔너리조차 안남음\n",
    "del d1\n",
    "d1"
   ]
  },
  {
   "cell_type": "markdown",
   "id": "ba0992b9",
   "metadata": {},
   "source": [
    "### 5. 딕셔너리 내장함수 & 관련 연산자\n",
    "\n",
    "- 딕셔너리타입.keys()\n",
    "\n",
    "- 딕셔너리타입.values()\n",
    "\n",
    "- 딕셔너리타입.items()\n",
    "\n",
    "- in 연산자"
   ]
  },
  {
   "cell_type": "code",
   "execution_count": 70,
   "id": "cfca4b4f",
   "metadata": {},
   "outputs": [
    {
     "data": {
      "text/plain": [
       "dict_keys(['name', 'age', 'job'])"
      ]
     },
     "execution_count": 70,
     "metadata": {},
     "output_type": "execute_result"
    }
   ],
   "source": [
    "# 딕셔너리가 가지고 있는 key값만 리스트 형식으로 반환 : .keys()\n",
    "d1 = {'name' : '홍길동', 'age' : 18, 'job' : '학생'}\n",
    "d1.keys()"
   ]
  },
  {
   "cell_type": "code",
   "execution_count": 71,
   "id": "b7970cbf",
   "metadata": {},
   "outputs": [
    {
     "ename": "TypeError",
     "evalue": "'dict' object is not callable",
     "output_type": "error",
     "traceback": [
      "\u001b[1;31m---------------------------------------------------------------------------\u001b[0m",
      "\u001b[1;31mTypeError\u001b[0m                                 Traceback (most recent call last)",
      "Input \u001b[1;32mIn [71]\u001b[0m, in \u001b[0;36m<cell line: 3>\u001b[1;34m()\u001b[0m\n\u001b[0;32m      1\u001b[0m \u001b[38;5;66;03m# 리스트로 바꿔주고 싶다면(dict_keys는 유사 리스트임)\u001b[39;00m\n\u001b[0;32m      2\u001b[0m \u001b[38;5;66;03m# list()로 감쌉니다\u001b[39;00m\n\u001b[1;32m----> 3\u001b[0m \u001b[38;5;28;43mlist\u001b[39;49m\u001b[43m(\u001b[49m\u001b[43md1\u001b[49m\u001b[38;5;241;43m.\u001b[39;49m\u001b[43mkeys\u001b[49m\u001b[43m(\u001b[49m\u001b[43m)\u001b[49m\u001b[43m)\u001b[49m\n",
      "\u001b[1;31mTypeError\u001b[0m: 'dict' object is not callable"
     ]
    }
   ],
   "source": [
    "# 리스트로 바꿔주고 싶다면(dict_keys는 유사 리스트임)\n",
    "# list()로 감쌉니다\n",
    "list(d1.keys())"
   ]
  },
  {
   "cell_type": "code",
   "execution_count": 72,
   "id": "af4d2473",
   "metadata": {},
   "outputs": [
    {
     "data": {
      "text/plain": [
       "dict_values(['홍길동', 18, '학생'])"
      ]
     },
     "execution_count": 72,
     "metadata": {},
     "output_type": "execute_result"
    }
   ],
   "source": [
    "# 딕셔너리가 가지고 있는 value만 리스트 형식으로 반환 : .values()\n",
    "d1.values()"
   ]
  },
  {
   "cell_type": "code",
   "execution_count": 74,
   "id": "84816d7c",
   "metadata": {},
   "outputs": [
    {
     "data": {
      "text/plain": [
       "dict_items([('name', '홍길동'), ('age', 18), ('job', '학생')])"
      ]
     },
     "execution_count": 74,
     "metadata": {},
     "output_type": "execute_result"
    }
   ],
   "source": [
    "# 딕셔너리가 가진 아이템(key & value쌍)을 튜플로 묶어서 리스트 형식으로 : .items()\n",
    "d1.items()"
   ]
  },
  {
   "cell_type": "code",
   "execution_count": null,
   "id": "9655ba85",
   "metadata": {},
   "outputs": [],
   "source": [
    "### <<연습문제>>\n",
    "\n",
    "1. 아래와 같은 딕셔너리를 생성하고 해당 딕셔너리의 value 중 최소값을 구하여 형식에 맞게 출력하세요.\n",
    "    최소값은 min(리스트)로 구할 수 있습니다.\n",
    "    \n",
    "        - 생성 딕셔너리 : {'A':9, 'B':80, 'C':70}\n",
    "            \n",
    "        - 조건1. 생성한 딕셔너리에 \" 'D' : 20, 'E' : 100, 'F' : 10 \" 아이템 3개를 추가하세요.\n",
    "        \n",
    "        - 조건2. key 'A'의 값을 9에서 90으로 변경하세요.\n",
    "        \n",
    "        - 조건3. '최소 값 10을 가진 key는 F입니다.'로 포맷팅을 사용하여 출력하고 10을 포맷팅 값으로 사용하세요.\n",
    "        \n",
    "        - 조건4. 최소 값은 딕셔너리에 속한 내장함수와 파이썬 내장함수를 모두 사용하여 구해보세요."
   ]
  },
  {
   "cell_type": "code",
   "execution_count": 8,
   "id": "aa7c4a9a",
   "metadata": {},
   "outputs": [
    {
     "data": {
      "text/plain": [
       "{'A': 9, 'B': 80, 'C': 70}"
      ]
     },
     "execution_count": 8,
     "metadata": {},
     "output_type": "execute_result"
    }
   ],
   "source": [
    "list3 = {'A':9, 'B':80, 'C':70}\n",
    "list3"
   ]
  },
  {
   "cell_type": "code",
   "execution_count": 11,
   "id": "e8d57c42",
   "metadata": {},
   "outputs": [
    {
     "data": {
      "text/plain": [
       "{'A': 90, 'B': 80, 'C': 70, 'D': 20, 'E': 100, 'F': 10}"
      ]
     },
     "execution_count": 11,
     "metadata": {},
     "output_type": "execute_result"
    }
   ],
   "source": [
    "# - 조건1. 생성한 딕셔너리에 \" 'D' : 20, 'E' : 100, 'F' : 10 \" 아이템 3개를 추가하세요.\n",
    "# list3['D'] = 20;\n",
    "list3.update({'D' : 20, 'E' : 100, 'F' : 10})\n",
    "list3"
   ]
  },
  {
   "cell_type": "code",
   "execution_count": 9,
   "id": "0535d8cb",
   "metadata": {},
   "outputs": [
    {
     "data": {
      "text/plain": [
       "{'A': 90, 'B': 80, 'C': 70}"
      ]
     },
     "execution_count": 9,
     "metadata": {},
     "output_type": "execute_result"
    }
   ],
   "source": [
    "# - 조건2. key 'A'의 값을 9에서 90으로 변경하세요.\n",
    "\n",
    "list3['A'] = 90\n",
    "list3"
   ]
  },
  {
   "cell_type": "code",
   "execution_count": 12,
   "id": "c9e1a6f2",
   "metadata": {},
   "outputs": [
    {
     "data": {
      "text/plain": [
       "'최소 값 10 을 가진 key는 F 입니다.'"
      ]
     },
     "execution_count": 12,
     "metadata": {},
     "output_type": "execute_result"
    }
   ],
   "source": [
    "# - 조건3. '최소 값 10을 가진 key는 F입니다.'로 포맷팅을 사용하여 출력하고 10을 포맷팅 값으로 사용하세요.\n",
    "\n",
    "'최소 값 %s 을 가진 key는 F 입니다.' % list3['F']"
   ]
  },
  {
   "cell_type": "code",
   "execution_count": 84,
   "id": "7712fd50",
   "metadata": {},
   "outputs": [
    {
     "data": {
      "text/plain": [
       "10"
      ]
     },
     "execution_count": 84,
     "metadata": {},
     "output_type": "execute_result"
    }
   ],
   "source": [
    "# - 조건4. 최소 값은 딕셔너리에 속한 내장함수와 파이썬 내장함수를 모두 사용하여 구해보세요.\n",
    "min(list3.values())"
   ]
  },
  {
   "cell_type": "code",
   "execution_count": 13,
   "id": "425cd4e7",
   "metadata": {},
   "outputs": [
    {
     "data": {
      "text/plain": [
       "[('A', 90), ('B', 80), ('C', 70), ('D', 20), ('E', 100), ('F', 10)]"
      ]
     },
     "execution_count": 13,
     "metadata": {},
     "output_type": "execute_result"
    }
   ],
   "source": [
    "# 2. 1번에서 사용한 d1 딕셔너리를 출력했을 때 아래와 같이 보여지게 작성해보세요.\n",
    "list(list3.items())"
   ]
  },
  {
   "cell_type": "code",
   "execution_count": 14,
   "id": "13e929b0",
   "metadata": {},
   "outputs": [
    {
     "data": {
      "text/plain": [
       "False"
      ]
     },
     "execution_count": 14,
     "metadata": {},
     "output_type": "execute_result"
    }
   ],
   "source": [
    "# 딕셔너리의 in, not in 키워드는 key값이 존재하는지 아닌지만을 따집니다.\n",
    "90 in list3"
   ]
  },
  {
   "cell_type": "code",
   "execution_count": null,
   "id": "a613df5f",
   "metadata": {},
   "outputs": [],
   "source": []
  },
  {
   "cell_type": "code",
   "execution_count": null,
   "id": "a5a26a6f",
   "metadata": {},
   "outputs": [],
   "source": []
  },
  {
   "cell_type": "code",
   "execution_count": null,
   "id": "54b2287d",
   "metadata": {},
   "outputs": [],
   "source": []
  },
  {
   "cell_type": "code",
   "execution_count": null,
   "id": "64162c2d",
   "metadata": {},
   "outputs": [],
   "source": []
  }
 ],
 "metadata": {
  "kernelspec": {
   "display_name": "Python 3 (ipykernel)",
   "language": "python",
   "name": "python3"
  },
  "language_info": {
   "codemirror_mode": {
    "name": "ipython",
    "version": 3
   },
   "file_extension": ".py",
   "mimetype": "text/x-python",
   "name": "python",
   "nbconvert_exporter": "python",
   "pygments_lexer": "ipython3",
   "version": "3.9.12"
  }
 },
 "nbformat": 4,
 "nbformat_minor": 5
}
