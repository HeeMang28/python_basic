{
 "cells": [
  {
   "cell_type": "code",
   "execution_count": 1,
   "id": "ebde074a",
   "metadata": {},
   "outputs": [],
   "source": [
    "# 라이브러리 불러오기\n",
    "import numpy as np"
   ]
  },
  {
   "cell_type": "code",
   "execution_count": 2,
   "id": "9f878fc3",
   "metadata": {},
   "outputs": [],
   "source": [
    "# Numpy 객체 정보를 확인하기 위한 사용자 함수 정의 : 객체타입, 구조, 차원, 데이터타입\n",
    "def np_print(arr):\n",
    "    text=\"\"\"\n",
    "    type : {}\n",
    "    shape : {}\n",
    "    dimension : {}\n",
    "    dtype : {}\n",
    "    data : \\n {}\"\"\".format(type(arr), arr.shape, arr.ndim, arr.dtype, arr)\n",
    "    print(text)"
   ]
  },
  {
   "cell_type": "markdown",
   "id": "19dc6ad1",
   "metadata": {},
   "source": [
    "## 산술연산\n",
    "\n",
    "- 더하기 : +, add()\n",
    "- 빼기 : -, subtract()\n",
    "- 나누기 : /, divide()\n",
    "- 곱하기 : *, multiply()\n",
    "- 지수곱 표현 : exp()\n",
    "- 제곱근 : sqrt()\n",
    "- 로그 : log()\n",
    "- 내적(행렬곱) : dot()"
   ]
  },
  {
   "cell_type": "code",
   "execution_count": 6,
   "id": "238b86f4",
   "metadata": {},
   "outputs": [
    {
     "data": {
      "text/plain": [
       "array([[1, 2, 3],\n",
       "       [4, 5, 6],\n",
       "       [7, 8, 9]])"
      ]
     },
     "execution_count": 6,
     "metadata": {},
     "output_type": "execute_result"
    }
   ],
   "source": [
    "# 1부터 10미만의 범위(지정범위)에서 1씩 증가하는 숫자를 데이터로 가진 3행 3열의 배열\n",
    "a = np.arange(1, 10).reshape(3, 3)\n",
    "a"
   ]
  },
  {
   "cell_type": "code",
   "execution_count": 8,
   "id": "32f24013",
   "metadata": {},
   "outputs": [
    {
     "data": {
      "text/plain": [
       "array([[ 4,  5,  6],\n",
       "       [ 7,  8,  9],\n",
       "       [10, 11, 12]])"
      ]
     },
     "execution_count": 8,
     "metadata": {},
     "output_type": "execute_result"
    }
   ],
   "source": [
    "# 4 이상 13미만의 범위에서 1식 증가하는 숫자를 데이터로 가진 3행 3열 배열 생성\n",
    "b = np.arange(4, 13).reshape(3, 3)\n",
    "b"
   ]
  },
  {
   "cell_type": "code",
   "execution_count": 9,
   "id": "6cbb9353",
   "metadata": {},
   "outputs": [
    {
     "data": {
      "text/plain": [
       "array([[10, 11, 12, 13],\n",
       "       [14, 15, 16, 17],\n",
       "       [18, 19, 20, 21]])"
      ]
     },
     "execution_count": 9,
     "metadata": {},
     "output_type": "execute_result"
    }
   ],
   "source": [
    "# 10 ~ 21까지 3행 4열 형태로 만들기\n",
    "c = np.arange(10, 22).reshape(3, 4)\n",
    "c"
   ]
  },
  {
   "cell_type": "markdown",
   "id": "b8c72f87",
   "metadata": {},
   "source": [
    "### 더하기\n",
    "    - 배열 + 배열\n",
    "    - np.add(arr1, arr2)"
   ]
  },
  {
   "cell_type": "code",
   "execution_count": 12,
   "id": "de4a6f1a",
   "metadata": {},
   "outputs": [
    {
     "data": {
      "text/plain": [
       "array([[ 5,  7,  9],\n",
       "       [11, 13, 15],\n",
       "       [17, 19, 21]])"
      ]
     },
     "execution_count": 12,
     "metadata": {},
     "output_type": "execute_result"
    }
   ],
   "source": [
    "# 산술연산자\n",
    "a + b"
   ]
  },
  {
   "cell_type": "code",
   "execution_count": 13,
   "id": "592b0ec1",
   "metadata": {},
   "outputs": [
    {
     "data": {
      "text/plain": [
       "array([[ 5,  7,  9],\n",
       "       [11, 13, 15],\n",
       "       [17, 19, 21]])"
      ]
     },
     "execution_count": 13,
     "metadata": {},
     "output_type": "execute_result"
    }
   ],
   "source": [
    "# np.add(배열1, 배열2)\n",
    "np.add(a, b)"
   ]
  },
  {
   "cell_type": "code",
   "execution_count": 14,
   "id": "8003f863",
   "metadata": {},
   "outputs": [
    {
     "ename": "ValueError",
     "evalue": "operands could not be broadcast together with shapes (3,3) (3,4) ",
     "output_type": "error",
     "traceback": [
      "\u001b[1;31m---------------------------------------------------------------------------\u001b[0m",
      "\u001b[1;31mValueError\u001b[0m                                Traceback (most recent call last)",
      "Input \u001b[1;32mIn [14]\u001b[0m, in \u001b[0;36m<cell line: 2>\u001b[1;34m()\u001b[0m\n\u001b[0;32m      1\u001b[0m \u001b[38;5;66;03m# 구조 다른 배열간의 산술연산자 사용시 : 특정 조건을 만족하지 않으면 에러가 납니다.\u001b[39;00m\n\u001b[1;32m----> 2\u001b[0m \u001b[43ma\u001b[49m\u001b[43m \u001b[49m\u001b[38;5;241;43m+\u001b[39;49m\u001b[43m \u001b[49m\u001b[43mc\u001b[49m\n",
      "\u001b[1;31mValueError\u001b[0m: operands could not be broadcast together with shapes (3,3) (3,4) "
     ]
    }
   ],
   "source": [
    "# 구조 다른 배열간의 산술연산자 사용시 : 특정 조건을 만족하지 않으면 에러가 납니다.\n",
    "a + c"
   ]
  },
  {
   "cell_type": "markdown",
   "id": "69b01d9e",
   "metadata": {},
   "source": [
    "### 빼기\n",
    "\n",
    "    - 배열 - 배열\n",
    "    - np.subtract(arr1, arr2)"
   ]
  },
  {
   "cell_type": "code",
   "execution_count": 15,
   "id": "b5f63285",
   "metadata": {},
   "outputs": [
    {
     "data": {
      "text/plain": [
       "array([[-3, -3, -3],\n",
       "       [-3, -3, -3],\n",
       "       [-3, -3, -3]])"
      ]
     },
     "execution_count": 15,
     "metadata": {},
     "output_type": "execute_result"
    }
   ],
   "source": [
    "# 산술연산자\n",
    "a - b"
   ]
  },
  {
   "cell_type": "code",
   "execution_count": 16,
   "id": "f02b30c3",
   "metadata": {},
   "outputs": [
    {
     "data": {
      "text/plain": [
       "array([[-3, -3, -3],\n",
       "       [-3, -3, -3],\n",
       "       [-3, -3, -3]])"
      ]
     },
     "execution_count": 16,
     "metadata": {},
     "output_type": "execute_result"
    }
   ],
   "source": [
    "np.subtract(a, b)"
   ]
  },
  {
   "cell_type": "code",
   "execution_count": 18,
   "id": "dafc8fe5",
   "metadata": {},
   "outputs": [
    {
     "data": {
      "text/plain": [
       "array([[3, 3, 3],\n",
       "       [3, 3, 3],\n",
       "       [3, 3, 3]])"
      ]
     },
     "execution_count": 18,
     "metadata": {},
     "output_type": "execute_result"
    }
   ],
   "source": [
    "np.subtract(b, a)"
   ]
  },
  {
   "cell_type": "markdown",
   "id": "ea3156af",
   "metadata": {},
   "source": [
    "### 나누기\n",
    "\n",
    "    - 배열 / 배열\n",
    "    - np.divide(arr1, arr2)"
   ]
  },
  {
   "cell_type": "code",
   "execution_count": 19,
   "id": "a5e62e97",
   "metadata": {},
   "outputs": [
    {
     "data": {
      "text/plain": [
       "array([[0.25      , 0.4       , 0.5       ],\n",
       "       [0.57142857, 0.625     , 0.66666667],\n",
       "       [0.7       , 0.72727273, 0.75      ]])"
      ]
     },
     "execution_count": 19,
     "metadata": {},
     "output_type": "execute_result"
    }
   ],
   "source": [
    "# 산술연산자\n",
    "a / b"
   ]
  },
  {
   "cell_type": "code",
   "execution_count": 20,
   "id": "f67e1527",
   "metadata": {},
   "outputs": [
    {
     "data": {
      "text/plain": [
       "array([[4.        , 2.5       , 2.        ],\n",
       "       [1.75      , 1.6       , 1.5       ],\n",
       "       [1.42857143, 1.375     , 1.33333333]])"
      ]
     },
     "execution_count": 20,
     "metadata": {},
     "output_type": "execute_result"
    }
   ],
   "source": [
    "b / a"
   ]
  },
  {
   "cell_type": "code",
   "execution_count": 21,
   "id": "89beb07b",
   "metadata": {},
   "outputs": [
    {
     "data": {
      "text/plain": [
       "array([[0.25      , 0.4       , 0.5       ],\n",
       "       [0.57142857, 0.625     , 0.66666667],\n",
       "       [0.7       , 0.72727273, 0.75      ]])"
      ]
     },
     "execution_count": 21,
     "metadata": {},
     "output_type": "execute_result"
    }
   ],
   "source": [
    "np.divide(a, b)"
   ]
  },
  {
   "cell_type": "code",
   "execution_count": 22,
   "id": "be8d25fd",
   "metadata": {},
   "outputs": [
    {
     "data": {
      "text/plain": [
       "array([[4.        , 2.5       , 2.        ],\n",
       "       [1.75      , 1.6       , 1.5       ],\n",
       "       [1.42857143, 1.375     , 1.33333333]])"
      ]
     },
     "execution_count": 22,
     "metadata": {},
     "output_type": "execute_result"
    }
   ],
   "source": [
    "np.divide(b, a)"
   ]
  },
  {
   "cell_type": "markdown",
   "id": "1a9c476c",
   "metadata": {},
   "source": [
    "### 곱하기\n",
    "\n",
    "    - 배열 * 배열\n",
    "    - np.multiply(arr1, arr2)"
   ]
  },
  {
   "cell_type": "code",
   "execution_count": 24,
   "id": "2c2e8ee0",
   "metadata": {},
   "outputs": [
    {
     "data": {
      "text/plain": [
       "array([[  4,  10,  18],\n",
       "       [ 28,  40,  54],\n",
       "       [ 70,  88, 108]])"
      ]
     },
     "execution_count": 24,
     "metadata": {},
     "output_type": "execute_result"
    }
   ],
   "source": [
    "a * b"
   ]
  },
  {
   "cell_type": "code",
   "execution_count": 26,
   "id": "90ece1bf",
   "metadata": {},
   "outputs": [
    {
     "data": {
      "text/plain": [
       "array([[  4,  10,  18],\n",
       "       [ 28,  40,  54],\n",
       "       [ 70,  88, 108]])"
      ]
     },
     "execution_count": 26,
     "metadata": {},
     "output_type": "execute_result"
    }
   ],
   "source": [
    "np.multiply(a, b)"
   ]
  },
  {
   "cell_type": "markdown",
   "id": "676eec75",
   "metadata": {},
   "source": [
    "### 제곱근\n",
    "\n",
    "- np.sqrt(arr)\n",
    "\n",
    "<img src='img/sqrt.gif' width='400' height='200' align='left'>"
   ]
  },
  {
   "cell_type": "code",
   "execution_count": 27,
   "id": "013aff2f",
   "metadata": {},
   "outputs": [
    {
     "data": {
      "text/plain": [
       "array([[1.        , 1.41421356, 1.73205081],\n",
       "       [2.        , 2.23606798, 2.44948974],\n",
       "       [2.64575131, 2.82842712, 3.        ]])"
      ]
     },
     "execution_count": 27,
     "metadata": {},
     "output_type": "execute_result"
    }
   ],
   "source": [
    "np.sqrt(a)"
   ]
  },
  {
   "cell_type": "markdown",
   "id": "052c2891",
   "metadata": {},
   "source": [
    "### 내적(행렬곱)\n",
    "\n",
    "- np.dot(a, b)\n",
    "\n",
    "<img src='img/dotProduct.png' width='400' height='200' align='left'>"
   ]
  },
  {
   "cell_type": "code",
   "execution_count": 28,
   "id": "d5308b0e",
   "metadata": {},
   "outputs": [
    {
     "data": {
      "text/plain": [
       "array([[  4,  10,  18],\n",
       "       [ 28,  40,  54],\n",
       "       [ 70,  88, 108]])"
      ]
     },
     "execution_count": 28,
     "metadata": {},
     "output_type": "execute_result"
    }
   ],
   "source": [
    "a * b"
   ]
  },
  {
   "cell_type": "code",
   "execution_count": 29,
   "id": "bef25e0c",
   "metadata": {},
   "outputs": [
    {
     "data": {
      "text/plain": [
       "array([[ 48,  54,  60],\n",
       "       [111, 126, 141],\n",
       "       [174, 198, 222]])"
      ]
     },
     "execution_count": 29,
     "metadata": {},
     "output_type": "execute_result"
    }
   ],
   "source": [
    "np.dot(a, b)"
   ]
  },
  {
   "cell_type": "markdown",
   "id": "342bef40",
   "metadata": {},
   "source": [
    "### Numpy 배열 연산\n",
    "\n",
    "#### 2. 비교 연산\n",
    "\n",
    "1) 요소\n",
    "\n",
    "- 값에 대한 비교 : ==, !=\n",
    "- 크기에 대한 비교 : >, <, >=, <=\n",
    "    \n",
    "2) 배열\n",
    "- 두 배열 전체에 대한 비교 : array_equal(a, b)"
   ]
  },
  {
   "cell_type": "code",
   "execution_count": 32,
   "id": "7ae5112e",
   "metadata": {},
   "outputs": [
    {
     "name": "stdout",
     "output_type": "stream",
     "text": [
      "[[1 2 3]\n",
      " [4 5 6]\n",
      " [7 8 9]]\n",
      "[[ 4  5  6]\n",
      " [ 7  8  9]\n",
      " [10 11 12]]\n"
     ]
    },
    {
     "data": {
      "text/plain": [
       "array([[False, False, False],\n",
       "       [False, False, False],\n",
       "       [False, False, False]])"
      ]
     },
     "execution_count": 32,
     "metadata": {},
     "output_type": "execute_result"
    }
   ],
   "source": [
    "print(a)\n",
    "print(b)\n",
    "\n",
    "a == b"
   ]
  },
  {
   "cell_type": "code",
   "execution_count": 31,
   "id": "50bf9f4a",
   "metadata": {},
   "outputs": [
    {
     "data": {
      "text/plain": [
       "array([[ True,  True,  True],\n",
       "       [ True,  True,  True],\n",
       "       [ True,  True,  True]])"
      ]
     },
     "execution_count": 31,
     "metadata": {},
     "output_type": "execute_result"
    }
   ],
   "source": [
    "# 두 배열 요소에 대하여 값이 다른지 비교\n",
    "a != b"
   ]
  },
  {
   "cell_type": "code",
   "execution_count": 33,
   "id": "50f3e56b",
   "metadata": {},
   "outputs": [
    {
     "data": {
      "text/plain": [
       "False"
      ]
     },
     "execution_count": 33,
     "metadata": {},
     "output_type": "execute_result"
    }
   ],
   "source": [
    "# 두 배열이 완전히 일치하는지 여부만 조회\n",
    "# 하나의 T/F로 반환\n",
    "np.array_equal(a, b)"
   ]
  },
  {
   "cell_type": "markdown",
   "id": "ff38ce0d",
   "metadata": {},
   "source": [
    "### Numpy 배열 연산\n",
    "\n",
    "3. 집계 함수\n",
    "\n",
    "    - Numpy 배열에 대해 집계 함수를 적용할 때는 반드시 axis로 설정된 기준에 따라 연산 수행\n",
    "    - 별도로 값을 지정하지 않으면 기본값은 axis = None으로 지정\n",
    "    - axis\n",
    "        - axis = None <br>\n",
    "        전체 데이터를 하나의 배열로 간주하고 집계 함수의 연산 범위를 전체 배열로 지정\n",
    "        <br>\n",
    "        <img src='img/axis_None.jpg' width='150' height='150' align='left'>\n",
    "        <br>\n",
    "        <br>\n",
    "        <br>\n",
    "        <br>\n",
    "        <br>\n",
    "        <br>\n",
    "        <br>\n",
    "        <br>\n",
    "        <br>\n",
    "        <br>\n",
    "        - axis = 0 <br>\n",
    "        열을 기준으로 동일한 열에 있는 요소를 하나의 그룹으로 묶어 집계 함수의 연산 범위로 지정\n",
    "        <br>\n",
    "        <img src='img/axis_0.jpg' width='150' height='150' align='left'>\n",
    "        <br>\n",
    "        <br>\n",
    "        <br>\n",
    "        <br>\n",
    "        <br>\n",
    "        <br>\n",
    "        <br>\n",
    "        <br>\n",
    "        <br>\n",
    "        <br>\n",
    "        - axis = 1 <br>\n",
    "        행을 기준으로 동일한 행에 있는 요소를 하나의 그룹으로 묶어 집계 함수의 연산 범위로 지정\n",
    "        <br>\n",
    "        <img src='img/axis_1.jpg' width='150' height='150' align='left'>\n",
    "        <br>\n",
    "        <br>\n",
    "        <br>\n",
    "        <br>\n",
    "        <br>\n",
    "        <br>\n",
    "        <br>\n",
    "        <br>\n",
    "        <br>\n",
    "        <br>\n",
    "        \n",
    "    - 집계 함수 : 배열객체에 대한 메소드로 사용하거나 Numpy 라이브러리의 메소드로 사용하는 두 가지 방법\n",
    "        - 합계 : sum()\n",
    "        - 최소값 : min()\n",
    "        - 최대값 : max()\n",
    "        - 누적 합계 : cumsum()\n",
    "        - 평균 : mean()\n",
    "        - 중앙값 : median()\n",
    "            - 크기 순으로 나열된 데이터에 대해 중앙에 위치하는 값\n",
    "        - 상관계수 : corrcoef()\n",
    "            - 데이터 간의 상관관계를 나타내는 수치(-1 <= r <= 1)\n",
    "        - 표준편차 : std()\n",
    "            - 분산의 제곱근, 데이터가 평균으로부터 흩어져 있는 정도\n",
    "            - 분산 = 편차(요소-전체평균)제곱의 평균\n",
    "        - 고유값 : unique()"
   ]
  },
  {
   "cell_type": "code",
   "execution_count": 34,
   "id": "aa3464a4",
   "metadata": {},
   "outputs": [
    {
     "name": "stdout",
     "output_type": "stream",
     "text": [
      "\n",
      "    type : <class 'numpy.ndarray'>\n",
      "    shape : (3, 3)\n",
      "    dimension : 2\n",
      "    dtype : int32\n",
      "    data : \n",
      " [[1 2 3]\n",
      " [4 5 6]\n",
      " [7 8 9]]\n"
     ]
    }
   ],
   "source": [
    "# 사용할 배열 객체 확인\n",
    "np_print(a)"
   ]
  },
  {
   "cell_type": "code",
   "execution_count": 35,
   "id": "b71c3e8c",
   "metadata": {},
   "outputs": [
    {
     "data": {
      "text/plain": [
       "45"
      ]
     },
     "execution_count": 35,
     "metadata": {},
     "output_type": "execute_result"
    }
   ],
   "source": [
    "# 합계 - 전체 기준 => 모든 요소에 대한 합\n",
    "# 1) 배열 타입의 메서드 : arr.sum()\n",
    "# 2) numpy함수 : np.sum(arr)\n",
    "a.sum()"
   ]
  },
  {
   "cell_type": "code",
   "execution_count": 36,
   "id": "1e4da934",
   "metadata": {},
   "outputs": [
    {
     "data": {
      "text/plain": [
       "array([46, 62, 78])"
      ]
     },
     "execution_count": 36,
     "metadata": {},
     "output_type": "execute_result"
    }
   ],
   "source": [
    "# 합계 - row, 가로축별 합산\n",
    "# 메서드, np함수의 파라미터값 : axis=1\n",
    "# 결과값 : [0번row합, 1번row합, 2번row합]\n",
    "c.sum(axis=1)"
   ]
  },
  {
   "cell_type": "code",
   "execution_count": 37,
   "id": "d0812b3b",
   "metadata": {},
   "outputs": [
    {
     "data": {
      "text/plain": [
       "array([42, 45, 48, 51])"
      ]
     },
     "execution_count": 37,
     "metadata": {},
     "output_type": "execute_result"
    }
   ],
   "source": [
    "# 합계 - column, 세로축별 합산 결과\n",
    "# 메서드, np함수의 파라미터값 : axis=0\n",
    "# 결과값 : [0번째 column합, 1번째 column합, 2번째 column합 ...]\n",
    "c.sum(axis=0)"
   ]
  },
  {
   "cell_type": "code",
   "execution_count": 40,
   "id": "6f1c9b89",
   "metadata": {},
   "outputs": [
    {
     "data": {
      "text/plain": [
       "10"
      ]
     },
     "execution_count": 40,
     "metadata": {},
     "output_type": "execute_result"
    }
   ],
   "source": [
    "# 최소값 - 전체 기준\n",
    "# 1) 배열 타입의 메서드 : arr.min()\n",
    "# 2) numpy 함수 : np.min(arr)\n",
    "c.min()\n",
    "np.min(c)"
   ]
  },
  {
   "cell_type": "code",
   "execution_count": 41,
   "id": "542ed6d3",
   "metadata": {},
   "outputs": [
    {
     "data": {
      "text/plain": [
       "1"
      ]
     },
     "execution_count": 41,
     "metadata": {},
     "output_type": "execute_result"
    }
   ],
   "source": [
    "# (참고) 파이썬 리스트에서 최소값 찾기\n",
    "x = [1, 2, 3, 4]\n",
    "min(x)"
   ]
  },
  {
   "cell_type": "code",
   "execution_count": 42,
   "id": "3193a09b",
   "metadata": {},
   "outputs": [
    {
     "data": {
      "text/plain": [
       "array([10, 14, 18])"
      ]
     },
     "execution_count": 42,
     "metadata": {},
     "output_type": "execute_result"
    }
   ],
   "source": [
    "# 최소값 - 각 가로축(row)별 최소값 찾기\n",
    "# 결과값 : [0번째 row최소값, 1번째 row최소값]\n",
    "c.min(axis=1)"
   ]
  },
  {
   "cell_type": "code",
   "execution_count": 43,
   "id": "0943c3e2",
   "metadata": {},
   "outputs": [
    {
     "data": {
      "text/plain": [
       "array([10, 11, 12, 13])"
      ]
     },
     "execution_count": 43,
     "metadata": {},
     "output_type": "execute_result"
    }
   ],
   "source": [
    "# 최소값 - 각 세로축(column)별 최소값 찾기\n",
    "# 결과값 : [0번째column최소값, 1번째column최소값]\n",
    "c.min(axis=0)"
   ]
  },
  {
   "cell_type": "code",
   "execution_count": 46,
   "id": "a49adb40",
   "metadata": {},
   "outputs": [
    {
     "data": {
      "text/plain": [
       "21"
      ]
     },
     "execution_count": 46,
     "metadata": {},
     "output_type": "execute_result"
    }
   ],
   "source": [
    "# 최대값 - 전체 기준\n",
    "# 1) 배열 타입의 메서드 : arr.max()\n",
    "# 2) numpy 함수 : np.max(arr)\n",
    "c.max()\n",
    "np.max(c)"
   ]
  },
  {
   "cell_type": "code",
   "execution_count": 47,
   "id": "22aa4db0",
   "metadata": {},
   "outputs": [
    {
     "data": {
      "text/plain": [
       "array([13, 17, 21])"
      ]
     },
     "execution_count": 47,
     "metadata": {},
     "output_type": "execute_result"
    }
   ],
   "source": [
    "# 최대값 - 가로축 기준(row)\n",
    "c.max(axis=1)"
   ]
  },
  {
   "cell_type": "code",
   "execution_count": 48,
   "id": "7d8c671e",
   "metadata": {},
   "outputs": [
    {
     "data": {
      "text/plain": [
       "array([18, 19, 20, 21])"
      ]
     },
     "execution_count": 48,
     "metadata": {},
     "output_type": "execute_result"
    }
   ],
   "source": [
    "# 최대값 - 세로축 기준\n",
    "c.max(axis=0)"
   ]
  },
  {
   "cell_type": "code",
   "execution_count": 49,
   "id": "a5a775ea",
   "metadata": {},
   "outputs": [
    {
     "data": {
      "text/plain": [
       "array([ 10,  21,  33,  46,  60,  75,  91, 108, 126, 145, 165, 186],\n",
       "      dtype=int32)"
      ]
     },
     "execution_count": 49,
     "metadata": {},
     "output_type": "execute_result"
    }
   ],
   "source": [
    "# 누적합계 - 전체 기준\n",
    "# 1) 배열 타입의 메서드 : arr.cumsum()\n",
    "# 2) numpy함수 : np.cumsum(arr)\n",
    "# 결과값 :\n",
    "c.cumsum()"
   ]
  },
  {
   "cell_type": "code",
   "execution_count": 50,
   "id": "b9928d41",
   "metadata": {},
   "outputs": [
    {
     "data": {
      "text/plain": [
       "array([[10, 21, 33, 46],\n",
       "       [14, 29, 45, 62],\n",
       "       [18, 37, 57, 78]], dtype=int32)"
      ]
     },
     "execution_count": 50,
     "metadata": {},
     "output_type": "execute_result"
    }
   ],
   "source": [
    "# 누적합계 - 가로축(row) 기준\n",
    "c.cumsum(axis=1)"
   ]
  },
  {
   "cell_type": "code",
   "execution_count": 51,
   "id": "96041d18",
   "metadata": {},
   "outputs": [
    {
     "data": {
      "text/plain": [
       "array([[10, 11, 12, 13],\n",
       "       [24, 26, 28, 30],\n",
       "       [42, 45, 48, 51]], dtype=int32)"
      ]
     },
     "execution_count": 51,
     "metadata": {},
     "output_type": "execute_result"
    }
   ],
   "source": [
    "c.cumsum(axis=0)"
   ]
  },
  {
   "cell_type": "code",
   "execution_count": 52,
   "id": "0dd1cb9e",
   "metadata": {},
   "outputs": [
    {
     "data": {
      "text/plain": [
       "15.5"
      ]
     },
     "execution_count": 52,
     "metadata": {},
     "output_type": "execute_result"
    }
   ],
   "source": [
    "# 평균 - 전체데이터 기준\n",
    "# 1) 배열 타입의 메서드 : arr.mean()\n",
    "# 2) numpy 함수 : np.mean(arr)\n",
    "c.mean()"
   ]
  },
  {
   "cell_type": "code",
   "execution_count": 53,
   "id": "5d68cc22",
   "metadata": {},
   "outputs": [
    {
     "data": {
      "text/plain": [
       "array([11.5, 15.5, 19.5])"
      ]
     },
     "execution_count": 53,
     "metadata": {},
     "output_type": "execute_result"
    }
   ],
   "source": [
    "# 평균 - 가로축 기준\n",
    "c.mean(axis=1)"
   ]
  },
  {
   "cell_type": "code",
   "execution_count": 54,
   "id": "4799e2d9",
   "metadata": {},
   "outputs": [
    {
     "data": {
      "text/plain": [
       "array([14., 15., 16., 17.])"
      ]
     },
     "execution_count": 54,
     "metadata": {},
     "output_type": "execute_result"
    }
   ],
   "source": [
    "# 평균 - 세로축 기준\n",
    "c.mean(axis=0)"
   ]
  },
  {
   "cell_type": "code",
   "execution_count": 55,
   "id": "0233a5bd",
   "metadata": {},
   "outputs": [
    {
     "data": {
      "text/plain": [
       "15.5"
      ]
     },
     "execution_count": 55,
     "metadata": {},
     "output_type": "execute_result"
    }
   ],
   "source": [
    "# 중앙값 - 전체 기준\n",
    "# numpy 함수 : np.median(arr)\n",
    "# arr.median()을 직접호출할수없음\n",
    "np.median(c)"
   ]
  },
  {
   "cell_type": "code",
   "execution_count": 56,
   "id": "c6c7ab2a",
   "metadata": {},
   "outputs": [
    {
     "name": "stdout",
     "output_type": "stream",
     "text": [
      "5.0\n",
      "[[1 2 3]\n",
      " [4 5 6]\n",
      " [7 8 9]]\n"
     ]
    }
   ],
   "source": [
    "# a를 가지고(개) 중앙값을 구하면 원본에 있는 숫자로 잡힙니다.\n",
    "print(np.median(a))\n",
    "print(a)"
   ]
  },
  {
   "cell_type": "code",
   "execution_count": 60,
   "id": "5152948c",
   "metadata": {},
   "outputs": [
    {
     "data": {
      "text/plain": [
       "array([11.5, 15.5, 19.5])"
      ]
     },
     "execution_count": 60,
     "metadata": {},
     "output_type": "execute_result"
    }
   ],
   "source": [
    "# 중앙값 - 가로축 기준\n",
    "np.median(c, axis=1)"
   ]
  },
  {
   "cell_type": "code",
   "execution_count": 61,
   "id": "dbd1aed4",
   "metadata": {},
   "outputs": [
    {
     "data": {
      "text/plain": [
       "array([14., 15., 16., 17.])"
      ]
     },
     "execution_count": 61,
     "metadata": {},
     "output_type": "execute_result"
    }
   ],
   "source": [
    "# 중앙값 - 세로축 기준\n",
    "np.median(c, axis=0)"
   ]
  },
  {
   "cell_type": "code",
   "execution_count": 62,
   "id": "49881a13",
   "metadata": {},
   "outputs": [],
   "source": [
    "# 상관계수 : 두 데이터간의 상관관계(양/음의 상관관게)\n",
    "# numpy 함수 : np.corrcoef(arr1, arr2)\n",
    "x = np.array([163, 175, 181, 155, 157, 167, 178, 170])\n",
    "y = np.array([52, 70, 69, 48, 43, 70, 81, 75])"
   ]
  },
  {
   "cell_type": "code",
   "execution_count": 63,
   "id": "7f12d75b",
   "metadata": {},
   "outputs": [
    {
     "data": {
      "text/plain": [
       "array([[1.        , 0.85607253],\n",
       "       [0.85607253, 1.        ]])"
      ]
     },
     "execution_count": 63,
     "metadata": {},
     "output_type": "execute_result"
    }
   ],
   "source": [
    "np.corrcoef(x, y)"
   ]
  },
  {
   "cell_type": "code",
   "execution_count": 64,
   "id": "d6dccb62",
   "metadata": {},
   "outputs": [
    {
     "data": {
      "text/plain": [
       "array([[1, 2, 3],\n",
       "       [4, 5, 6],\n",
       "       [7, 8, 9]])"
      ]
     },
     "execution_count": 64,
     "metadata": {},
     "output_type": "execute_result"
    }
   ],
   "source": [
    "# 표준편차 - 전체 데이터 기준\n",
    "# 1) 배열타입 메서드 : arr.std()\n",
    "# 2) numpy 함수 : np.std(arr)\n",
    "a"
   ]
  },
  {
   "cell_type": "code",
   "execution_count": 65,
   "id": "ee17cd42",
   "metadata": {},
   "outputs": [
    {
     "data": {
      "text/plain": [
       "2.581988897471611"
      ]
     },
     "execution_count": 65,
     "metadata": {},
     "output_type": "execute_result"
    }
   ],
   "source": [
    "a.std()"
   ]
  },
  {
   "cell_type": "code",
   "execution_count": 66,
   "id": "d5922fda",
   "metadata": {},
   "outputs": [
    {
     "data": {
      "text/plain": [
       "array([0.81649658, 0.81649658, 0.81649658])"
      ]
     },
     "execution_count": 66,
     "metadata": {},
     "output_type": "execute_result"
    }
   ],
   "source": [
    "# 표준편차 - row기준(가로줄 기준)\n",
    "a.std(axis=1)"
   ]
  },
  {
   "cell_type": "code",
   "execution_count": 68,
   "id": "434def24",
   "metadata": {},
   "outputs": [
    {
     "data": {
      "text/plain": [
       "array([2.44948974, 2.44948974, 2.44948974])"
      ]
     },
     "execution_count": 68,
     "metadata": {},
     "output_type": "execute_result"
    }
   ],
   "source": [
    "a.std(axis=0)"
   ]
  },
  {
   "cell_type": "code",
   "execution_count": 69,
   "id": "1d43b6ef",
   "metadata": {},
   "outputs": [
    {
     "data": {
      "text/plain": [
       "array([10, 11, 12, 13, 14, 15, 16, 17, 18, 19, 20, 21])"
      ]
     },
     "execution_count": 69,
     "metadata": {},
     "output_type": "execute_result"
    }
   ],
   "source": [
    "# 고유값 : 전체 값에 적용\n",
    "# numpy 함수 : np.unique(arr)\n",
    "np.unique(c)"
   ]
  },
  {
   "cell_type": "code",
   "execution_count": 70,
   "id": "1677b3ac",
   "metadata": {},
   "outputs": [
    {
     "data": {
      "text/plain": [
       "array([1, 2, 3])"
      ]
     },
     "execution_count": 70,
     "metadata": {},
     "output_type": "execute_result"
    }
   ],
   "source": [
    "# 중복된 요소를 1개로 쳐서 해당 배열에 어떤 유형의 데이터가 있는지 보여줌\n",
    "np.unique(np.array([1, 1, 1, 1, 2, 2, 2, 2, 3, 3, 3, 3]))"
   ]
  },
  {
   "cell_type": "code",
   "execution_count": 75,
   "id": "c4d22d85",
   "metadata": {},
   "outputs": [],
   "source": [
    "# 난수 패턴 고정\n",
    "np.random.seed(1000)"
   ]
  },
  {
   "cell_type": "code",
   "execution_count": 76,
   "id": "cc4d0c87",
   "metadata": {},
   "outputs": [
    {
     "data": {
      "text/plain": [
       "array([[3, 3, 3],\n",
       "       [0, 3, 2],\n",
       "       [0, 1, 1]])"
      ]
     },
     "execution_count": 76,
     "metadata": {},
     "output_type": "execute_result"
    }
   ],
   "source": [
    "# 0이상 3이하의 정수 값을 가지는 3행 3열 배열 생성\n",
    "# hint : randint를 쓰세요\n",
    "d = np.random.randint(0, 4, size=(3, 3))\n",
    "d"
   ]
  },
  {
   "cell_type": "code",
   "execution_count": 77,
   "id": "c519ccdd",
   "metadata": {},
   "outputs": [
    {
     "data": {
      "text/plain": [
       "array([0, 1, 2, 3])"
      ]
     },
     "execution_count": 77,
     "metadata": {},
     "output_type": "execute_result"
    }
   ],
   "source": [
    "np.unique(d)"
   ]
  },
  {
   "cell_type": "code",
   "execution_count": 79,
   "id": "78781dd1",
   "metadata": {},
   "outputs": [
    {
     "data": {
      "text/plain": [
       "array([[3, 3, 3],\n",
       "       [0, 2, 3],\n",
       "       [0, 1, 1]])"
      ]
     },
     "execution_count": 79,
     "metadata": {},
     "output_type": "execute_result"
    }
   ],
   "source": [
    "# 고유값 - 가로축(row기준)\n",
    "np.unique(d, axis=1)"
   ]
  },
  {
   "cell_type": "code",
   "execution_count": 80,
   "id": "519dbecb",
   "metadata": {},
   "outputs": [
    {
     "data": {
      "text/plain": [
       "array([[0, 1, 1],\n",
       "       [0, 3, 2],\n",
       "       [3, 3, 3]])"
      ]
     },
     "execution_count": 80,
     "metadata": {},
     "output_type": "execute_result"
    }
   ],
   "source": [
    "# 고유값 - 세로축(column기준)\n",
    "np.unique(d, axis=0)"
   ]
  },
  {
   "cell_type": "markdown",
   "id": "3aebed7b",
   "metadata": {},
   "source": [
    "#### 브로드캐스팅(BroadCasting)\n",
    "\n",
    "- 서로 다른 구조(shape)를 가진 배열에 대해 연산을 수행할 때 구조를 맞추는 과정\n",
    "- 배열과 스칼라값 간의 연산\n",
    "- 배열과 배열 간의 연산\n",
    "- 브로드캐스팅 규칙 ; 축의 길이가 일치하거나 둘 중 하나의 길이가 1인 두 배열에 대해 호환성을 가짐\n",
    "<img src='img/broadcast.png' width='600' height='400' align='left'>"
   ]
  },
  {
   "cell_type": "code",
   "execution_count": 81,
   "id": "3aaba780",
   "metadata": {},
   "outputs": [
    {
     "name": "stdout",
     "output_type": "stream",
     "text": [
      "\n",
      "    type : <class 'numpy.ndarray'>\n",
      "    shape : (3, 3)\n",
      "    dimension : 2\n",
      "    dtype : int32\n",
      "    data : \n",
      " [[1 2 3]\n",
      " [4 5 6]\n",
      " [7 8 9]]\n",
      "\n",
      "    type : <class 'numpy.ndarray'>\n",
      "    shape : (3, 3)\n",
      "    dimension : 2\n",
      "    dtype : int32\n",
      "    data : \n",
      " [[ 4  5  6]\n",
      " [ 7  8  9]\n",
      " [10 11 12]]\n"
     ]
    }
   ],
   "source": [
    "# 사용할 배열 객체 다시 확인\n",
    "np_print(a)\n",
    "np_print(b)"
   ]
  },
  {
   "cell_type": "markdown",
   "id": "5b5a3e5d",
   "metadata": {},
   "source": [
    "#### 1. 배열의 값(single value, scala)\n",
    "\n",
    "- 스칼라 값을 배열의 구조와 동일한 배열로 변형하여 연산 수행"
   ]
  },
  {
   "cell_type": "code",
   "execution_count": 82,
   "id": "d11f9d6e",
   "metadata": {},
   "outputs": [
    {
     "data": {
      "text/plain": [
       "array([[11, 12, 13],\n",
       "       [14, 15, 16],\n",
       "       [17, 18, 19]])"
      ]
     },
     "execution_count": 82,
     "metadata": {},
     "output_type": "execute_result"
    }
   ],
   "source": [
    "# 구조가 다른 배열간의 연산\n",
    "# a배열의 모든 요소에 각각 10씩 더하기\n",
    "a + 10"
   ]
  },
  {
   "cell_type": "code",
   "execution_count": 86,
   "id": "759b4895",
   "metadata": {},
   "outputs": [
    {
     "name": "stdout",
     "output_type": "stream",
     "text": [
      "\n",
      "    type : <class 'numpy.ndarray'>\n",
      "    shape : (3, 3)\n",
      "    dimension : 2\n",
      "    dtype : int32\n",
      "    data : \n",
      " [[10 10 10]\n",
      " [10 10 10]\n",
      " [10 10 10]]\n"
     ]
    }
   ],
   "source": [
    "# 스칼라 -> 배열 변형\n",
    "# 3행 3열 구조에 모든 요소가 10인 배열 요소 생성\n",
    "scalar_arr = np.full_like(a, 10) # a가 3 * 3 형태인데 그 형태에 내부 값\n",
    "np_print(scalar_arr)"
   ]
  },
  {
   "cell_type": "code",
   "execution_count": 85,
   "id": "30ce2069",
   "metadata": {},
   "outputs": [
    {
     "data": {
      "text/plain": [
       "array([[11, 12, 13],\n",
       "       [14, 15, 16],\n",
       "       [17, 18, 19]])"
      ]
     },
     "execution_count": 85,
     "metadata": {},
     "output_type": "execute_result"
    }
   ],
   "source": [
    "# 스칼라값을 직접 더하나 아니면 해당 숫자가 들어간 배열을 만들어 더하나 차이가 없음\n",
    "a + scalar_arr"
   ]
  },
  {
   "cell_type": "markdown",
   "id": "0872a5c0",
   "metadata": {},
   "source": [
    "#### 2. 서로 다른 구조의 배열\n",
    "\n",
    "- 행, 열의 최대 길이를 기준으로 구조를 생성한 배열로 변형하여 연산 수행\n",
    "- 확장된 행, 열에 대해서 기존 배열과 동일한 데이터로 구성"
   ]
  },
  {
   "cell_type": "code",
   "execution_count": 91,
   "id": "4163a9c6",
   "metadata": {},
   "outputs": [],
   "source": [
    "# 1행 4열의 구조에서 1, 2, 3, 4를 값으로 가지는 배열 x 생성\n",
    "# 4행 1열의 구조에서 1, 2, 3, 4를 값으로 가지는 배열 y 생성\n",
    "\n",
    "x = np.arange(1, 5).reshape(1, 4)\n",
    "\n",
    "y = np.arange(1, 5).reshape(4, 1)"
   ]
  },
  {
   "cell_type": "code",
   "execution_count": 92,
   "id": "b0cbb644",
   "metadata": {},
   "outputs": [
    {
     "data": {
      "text/plain": [
       "array([[1, 2, 3, 4]])"
      ]
     },
     "execution_count": 92,
     "metadata": {},
     "output_type": "execute_result"
    }
   ],
   "source": [
    "x"
   ]
  },
  {
   "cell_type": "code",
   "execution_count": 93,
   "id": "0dc39f23",
   "metadata": {},
   "outputs": [
    {
     "data": {
      "text/plain": [
       "array([[1],\n",
       "       [2],\n",
       "       [3],\n",
       "       [4]])"
      ]
     },
     "execution_count": 93,
     "metadata": {},
     "output_type": "execute_result"
    }
   ],
   "source": [
    "y"
   ]
  },
  {
   "cell_type": "code",
   "execution_count": 96,
   "id": "de1c895c",
   "metadata": {},
   "outputs": [
    {
     "data": {
      "text/plain": [
       "array([[1, 2, 3, 4],\n",
       "       [1, 2, 3, 4]])"
      ]
     },
     "execution_count": 96,
     "metadata": {},
     "output_type": "execute_result"
    }
   ],
   "source": [
    "# 배열 x를 동일한 값으로 4행으로 확장한 새로운 배열 생성\n",
    "# 행방향으로 배열 추가하기(세로길이 증가) 메서드 : np.append(arr1, arr2, aixs=0)\n",
    "new_x = np.append(x, x, axis=0)\n",
    "new_x"
   ]
  },
  {
   "cell_type": "code",
   "execution_count": 97,
   "id": "5a51f2cd",
   "metadata": {},
   "outputs": [
    {
     "data": {
      "text/plain": [
       "array([[1, 2, 3, 4],\n",
       "       [1, 2, 3, 4],\n",
       "       [1, 2, 3, 4],\n",
       "       [1, 2, 3, 4]])"
      ]
     },
     "execution_count": 97,
     "metadata": {},
     "output_type": "execute_result"
    }
   ],
   "source": [
    "# new_x를 이용해 4 * 4 형태 배열로 만들어 new_x에 저장해주세요.\n",
    "new_x = np.append(new_x, new_x, axis=0)\n",
    "new_x"
   ]
  },
  {
   "cell_type": "code",
   "execution_count": 101,
   "id": "5a6e5e80",
   "metadata": {},
   "outputs": [
    {
     "data": {
      "text/plain": [
       "array([[1, 1, 1, 1],\n",
       "       [2, 2, 2, 2],\n",
       "       [3, 3, 3, 3],\n",
       "       [4, 4, 4, 4]])"
      ]
     },
     "execution_count": 101,
     "metadata": {},
     "output_type": "execute_result"
    }
   ],
   "source": [
    "# y를 이용해서도 4 * 4 형태로 만들어주세요 (new_y 변수에 저장)\n",
    "new_y = np.append(y, y, axis=1)\n",
    "new_y = np.append(new_y, new_y, axis=1)\n",
    "new_y"
   ]
  },
  {
   "cell_type": "code",
   "execution_count": 102,
   "id": "e7340641",
   "metadata": {},
   "outputs": [
    {
     "data": {
      "text/plain": [
       "array([[2, 3, 4, 5],\n",
       "       [3, 4, 5, 6],\n",
       "       [4, 5, 6, 7],\n",
       "       [5, 6, 7, 8]])"
      ]
     },
     "execution_count": 102,
     "metadata": {},
     "output_type": "execute_result"
    }
   ],
   "source": [
    "# 1행 4열과, 4행 1열 배열의 브로드캐스팅 연산\n",
    "x + y"
   ]
  },
  {
   "cell_type": "code",
   "execution_count": 103,
   "id": "854d1de7",
   "metadata": {},
   "outputs": [
    {
     "data": {
      "text/plain": [
       "array([[2, 3, 4, 5],\n",
       "       [3, 4, 5, 6],\n",
       "       [4, 5, 6, 7],\n",
       "       [5, 6, 7, 8]])"
      ]
     },
     "execution_count": 103,
     "metadata": {},
     "output_type": "execute_result"
    }
   ],
   "source": [
    "# 4행 4열로 확장시킨 new_x + new_y 덧셈과 차이가 없음\n",
    "new_x + new_y"
   ]
  },
  {
   "cell_type": "markdown",
   "id": "0608744d",
   "metadata": {},
   "source": [
    "### 벡터 연산\n",
    "\n",
    "- 요소들에 대한 연산을 벡터 연산으로 처리하면 일반적인 for반복문으로 연산 작업을 처리하는 것보다 월등히 \n",
    "뛰어난 처리 속도로 효율적인 작업가능"
   ]
  },
  {
   "cell_type": "code",
   "execution_count": 105,
   "id": "f49e1191",
   "metadata": {},
   "outputs": [
    {
     "data": {
      "text/plain": [
       "array([       0,        1,        2, ..., 99999997, 99999998, 99999999])"
      ]
     },
     "execution_count": 105,
     "metadata": {},
     "output_type": "execute_result"
    }
   ],
   "source": [
    "# 0부터 시작해서 100000000개 요소를 가진 배열 생성\n",
    "x = np.arange(100000000)\n",
    "x"
   ]
  },
  {
   "cell_type": "code",
   "execution_count": 116,
   "id": "c36343c7",
   "metadata": {},
   "outputs": [
    {
     "name": "stderr",
     "output_type": "stream",
     "text": [
      "<timed exec>:9: RuntimeWarning: overflow encountered in long_scalars\n"
     ]
    },
    {
     "ename": "KeyboardInterrupt",
     "evalue": "",
     "output_type": "error",
     "traceback": [
      "\u001b[1;31m---------------------------------------------------------------------------\u001b[0m",
      "\u001b[1;31mKeyboardInterrupt\u001b[0m                         Traceback (most recent call last)",
      "File \u001b[1;32m<timed exec>:9\u001b[0m, in \u001b[0;36m<module>\u001b[1;34m\u001b[0m\n",
      "\u001b[1;31mKeyboardInterrupt\u001b[0m: "
     ]
    }
   ],
   "source": [
    "%%time\n",
    "# 해당 셀을 완전히 수행하는데 소요된 시간을 표시해주는 주피터노트북 명령어\n",
    "# 셀의 가장 상단에 위치해야함(주석 포함해서도 가장 상단에 위치해야함)\n",
    "\n",
    "# 반복문을 통한 합계 (x변수에 저장한 넘파이 배열 자료 총합 구하기)\n",
    "# 시간단위 : 1s = 1,000ms(밀리세컨드) = 1,000,000us(마이크로세컨드)\n",
    "loop_result = 0 # 0 ~ 99999999 총합을 저장할 변수\n",
    "\n",
    "for i in x:\n",
    "    loop_result += i\n",
    "loop_result"
   ]
  },
  {
   "cell_type": "code",
   "execution_count": 119,
   "id": "c42bf158",
   "metadata": {},
   "outputs": [
    {
     "name": "stdout",
     "output_type": "stream",
     "text": [
      "CPU times: total: 62.5 ms\n",
      "Wall time: 61.1 ms\n"
     ]
    },
    {
     "data": {
      "text/plain": [
       "887459712"
      ]
     },
     "execution_count": 119,
     "metadata": {},
     "output_type": "execute_result"
    }
   ],
   "source": [
    "%%time\n",
    "# 넘파이 배열에서 총합구하는 명령어로 구하고 수행시간을 측정해보세요.\n",
    "np.sum(x)"
   ]
  },
  {
   "cell_type": "code",
   "execution_count": null,
   "id": "9f4658ee",
   "metadata": {},
   "outputs": [],
   "source": []
  }
 ],
 "metadata": {
  "kernelspec": {
   "display_name": "Python 3 (ipykernel)",
   "language": "python",
   "name": "python3"
  },
  "language_info": {
   "codemirror_mode": {
    "name": "ipython",
    "version": 3
   },
   "file_extension": ".py",
   "mimetype": "text/x-python",
   "name": "python",
   "nbconvert_exporter": "python",
   "pygments_lexer": "ipython3",
   "version": "3.9.12"
  }
 },
 "nbformat": 4,
 "nbformat_minor": 5
}
